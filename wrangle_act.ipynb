{
 "cells": [
  {
   "cell_type": "markdown",
   "metadata": {},
   "source": [
    "# Project Details\n",
    "\n",
    "Fully assessing and cleaning the entire dataset would require exceptional effort so only a subset of its issues (eight quality issues and two tidiness issues at minimum) needed to be assessed and cleaned.\n",
    "\n",
    "The tasks for this project were:\n",
    "\n",
    "* Data wrangling, which consists of:\n",
    "  * Gathering data\n",
    "  * Assessing data\n",
    "  * Cleaning data\n",
    "* Storing, analyzing, and visualizing our wrangled data\n",
    "* Reporting on 1) our data wrangling efforts and 2) our data analyses and visualizations"
   ]
  },
  {
   "cell_type": "code",
   "execution_count": 571,
   "metadata": {},
   "outputs": [],
   "source": [
    "import pandas as pd\n",
    "import numpy as np\n",
    "import matplotlib.pyplot as plt\n",
    "%matplotlib inline\n",
    "import requests\n",
    "import tweepy\n",
    "import os\n",
    "import json\n",
    "import time\n",
    "import re\n",
    "import matplotlib.pyplot as plt\n",
    "import warnings"
   ]
  },
  {
   "cell_type": "markdown",
   "metadata": {},
   "source": [
    "---"
   ]
  },
  {
   "cell_type": "markdown",
   "metadata": {},
   "source": [
    "# Gathering Data"
   ]
  },
  {
   "cell_type": "markdown",
   "metadata": {},
   "source": [
    "1. **Twitter archive file:** download this file manually by clicking the following link: twitter_archive_enhanced.csv\n",
    "\n",
    "- **The tweet image predictions**, i.e., what breed of dog (or other object, animal, etc.) is present in each tweet according to a neural network. This file (image_predictions.tsv) is hosted on Udacity's servers and should be downloaded programmatically using the Requests library and the following URL: https://d17h27t6h515a5.cloudfront.net/topher/2017/August/599fd2ad_image-predictions/image-predictions.tsv\n",
    "\n",
    "- **Twitter API & JSON:** Each tweet's retweet count and favorite (\"like\") count at minimum, and any additional data you find interesting. Using the tweet IDs in the WeRateDogs Twitter archive, query the Twitter API for each tweet's JSON data using Python's Tweepy library and store each tweet's entire set of JSON data in a file called tweet_json.txt file. \n",
    "    Each tweet's JSON data should be written to its own line. Then read this .txt file line by line into a pandas DataFrame with (at minimum) tweet ID, retweet count, and favorite count. "
   ]
  },
  {
   "cell_type": "markdown",
   "metadata": {},
   "source": [
    "**1. Twitter archive file**"
   ]
  },
  {
   "cell_type": "code",
   "execution_count": 572,
   "metadata": {},
   "outputs": [],
   "source": [
    "#Read CSV file \n",
    "twitter_archive = pd.read_csv('twitter-archive-enhanced.csv')"
   ]
  },
  {
   "cell_type": "code",
   "execution_count": 573,
   "metadata": {},
   "outputs": [
    {
     "data": {
      "text/html": [
       "<div>\n",
       "<style scoped>\n",
       "    .dataframe tbody tr th:only-of-type {\n",
       "        vertical-align: middle;\n",
       "    }\n",
       "\n",
       "    .dataframe tbody tr th {\n",
       "        vertical-align: top;\n",
       "    }\n",
       "\n",
       "    .dataframe thead th {\n",
       "        text-align: right;\n",
       "    }\n",
       "</style>\n",
       "<table border=\"1\" class=\"dataframe\">\n",
       "  <thead>\n",
       "    <tr style=\"text-align: right;\">\n",
       "      <th></th>\n",
       "      <th>tweet_id</th>\n",
       "      <th>in_reply_to_status_id</th>\n",
       "      <th>in_reply_to_user_id</th>\n",
       "      <th>timestamp</th>\n",
       "      <th>source</th>\n",
       "      <th>text</th>\n",
       "      <th>retweeted_status_id</th>\n",
       "      <th>retweeted_status_user_id</th>\n",
       "      <th>retweeted_status_timestamp</th>\n",
       "      <th>expanded_urls</th>\n",
       "      <th>rating_numerator</th>\n",
       "      <th>rating_denominator</th>\n",
       "      <th>name</th>\n",
       "      <th>doggo</th>\n",
       "      <th>floofer</th>\n",
       "      <th>pupper</th>\n",
       "      <th>puppo</th>\n",
       "    </tr>\n",
       "  </thead>\n",
       "  <tbody>\n",
       "    <tr>\n",
       "      <th>0</th>\n",
       "      <td>892420643555336193</td>\n",
       "      <td>NaN</td>\n",
       "      <td>NaN</td>\n",
       "      <td>2017-08-01 16:23:56 +0000</td>\n",
       "      <td>&lt;a href=\"http://twitter.com/download/iphone\" r...</td>\n",
       "      <td>This is Phineas. He's a mystical boy. Only eve...</td>\n",
       "      <td>NaN</td>\n",
       "      <td>NaN</td>\n",
       "      <td>NaN</td>\n",
       "      <td>https://twitter.com/dog_rates/status/892420643...</td>\n",
       "      <td>13</td>\n",
       "      <td>10</td>\n",
       "      <td>Phineas</td>\n",
       "      <td>None</td>\n",
       "      <td>None</td>\n",
       "      <td>None</td>\n",
       "      <td>None</td>\n",
       "    </tr>\n",
       "    <tr>\n",
       "      <th>1</th>\n",
       "      <td>892177421306343426</td>\n",
       "      <td>NaN</td>\n",
       "      <td>NaN</td>\n",
       "      <td>2017-08-01 00:17:27 +0000</td>\n",
       "      <td>&lt;a href=\"http://twitter.com/download/iphone\" r...</td>\n",
       "      <td>This is Tilly. She's just checking pup on you....</td>\n",
       "      <td>NaN</td>\n",
       "      <td>NaN</td>\n",
       "      <td>NaN</td>\n",
       "      <td>https://twitter.com/dog_rates/status/892177421...</td>\n",
       "      <td>13</td>\n",
       "      <td>10</td>\n",
       "      <td>Tilly</td>\n",
       "      <td>None</td>\n",
       "      <td>None</td>\n",
       "      <td>None</td>\n",
       "      <td>None</td>\n",
       "    </tr>\n",
       "    <tr>\n",
       "      <th>2</th>\n",
       "      <td>891815181378084864</td>\n",
       "      <td>NaN</td>\n",
       "      <td>NaN</td>\n",
       "      <td>2017-07-31 00:18:03 +0000</td>\n",
       "      <td>&lt;a href=\"http://twitter.com/download/iphone\" r...</td>\n",
       "      <td>This is Archie. He is a rare Norwegian Pouncin...</td>\n",
       "      <td>NaN</td>\n",
       "      <td>NaN</td>\n",
       "      <td>NaN</td>\n",
       "      <td>https://twitter.com/dog_rates/status/891815181...</td>\n",
       "      <td>12</td>\n",
       "      <td>10</td>\n",
       "      <td>Archie</td>\n",
       "      <td>None</td>\n",
       "      <td>None</td>\n",
       "      <td>None</td>\n",
       "      <td>None</td>\n",
       "    </tr>\n",
       "    <tr>\n",
       "      <th>3</th>\n",
       "      <td>891689557279858688</td>\n",
       "      <td>NaN</td>\n",
       "      <td>NaN</td>\n",
       "      <td>2017-07-30 15:58:51 +0000</td>\n",
       "      <td>&lt;a href=\"http://twitter.com/download/iphone\" r...</td>\n",
       "      <td>This is Darla. She commenced a snooze mid meal...</td>\n",
       "      <td>NaN</td>\n",
       "      <td>NaN</td>\n",
       "      <td>NaN</td>\n",
       "      <td>https://twitter.com/dog_rates/status/891689557...</td>\n",
       "      <td>13</td>\n",
       "      <td>10</td>\n",
       "      <td>Darla</td>\n",
       "      <td>None</td>\n",
       "      <td>None</td>\n",
       "      <td>None</td>\n",
       "      <td>None</td>\n",
       "    </tr>\n",
       "    <tr>\n",
       "      <th>4</th>\n",
       "      <td>891327558926688256</td>\n",
       "      <td>NaN</td>\n",
       "      <td>NaN</td>\n",
       "      <td>2017-07-29 16:00:24 +0000</td>\n",
       "      <td>&lt;a href=\"http://twitter.com/download/iphone\" r...</td>\n",
       "      <td>This is Franklin. He would like you to stop ca...</td>\n",
       "      <td>NaN</td>\n",
       "      <td>NaN</td>\n",
       "      <td>NaN</td>\n",
       "      <td>https://twitter.com/dog_rates/status/891327558...</td>\n",
       "      <td>12</td>\n",
       "      <td>10</td>\n",
       "      <td>Franklin</td>\n",
       "      <td>None</td>\n",
       "      <td>None</td>\n",
       "      <td>None</td>\n",
       "      <td>None</td>\n",
       "    </tr>\n",
       "  </tbody>\n",
       "</table>\n",
       "</div>"
      ],
      "text/plain": [
       "             tweet_id  in_reply_to_status_id  in_reply_to_user_id  \\\n",
       "0  892420643555336193                    NaN                  NaN   \n",
       "1  892177421306343426                    NaN                  NaN   \n",
       "2  891815181378084864                    NaN                  NaN   \n",
       "3  891689557279858688                    NaN                  NaN   \n",
       "4  891327558926688256                    NaN                  NaN   \n",
       "\n",
       "                   timestamp  \\\n",
       "0  2017-08-01 16:23:56 +0000   \n",
       "1  2017-08-01 00:17:27 +0000   \n",
       "2  2017-07-31 00:18:03 +0000   \n",
       "3  2017-07-30 15:58:51 +0000   \n",
       "4  2017-07-29 16:00:24 +0000   \n",
       "\n",
       "                                              source  \\\n",
       "0  <a href=\"http://twitter.com/download/iphone\" r...   \n",
       "1  <a href=\"http://twitter.com/download/iphone\" r...   \n",
       "2  <a href=\"http://twitter.com/download/iphone\" r...   \n",
       "3  <a href=\"http://twitter.com/download/iphone\" r...   \n",
       "4  <a href=\"http://twitter.com/download/iphone\" r...   \n",
       "\n",
       "                                                text  retweeted_status_id  \\\n",
       "0  This is Phineas. He's a mystical boy. Only eve...                  NaN   \n",
       "1  This is Tilly. She's just checking pup on you....                  NaN   \n",
       "2  This is Archie. He is a rare Norwegian Pouncin...                  NaN   \n",
       "3  This is Darla. She commenced a snooze mid meal...                  NaN   \n",
       "4  This is Franklin. He would like you to stop ca...                  NaN   \n",
       "\n",
       "   retweeted_status_user_id retweeted_status_timestamp  \\\n",
       "0                       NaN                        NaN   \n",
       "1                       NaN                        NaN   \n",
       "2                       NaN                        NaN   \n",
       "3                       NaN                        NaN   \n",
       "4                       NaN                        NaN   \n",
       "\n",
       "                                       expanded_urls  rating_numerator  \\\n",
       "0  https://twitter.com/dog_rates/status/892420643...                13   \n",
       "1  https://twitter.com/dog_rates/status/892177421...                13   \n",
       "2  https://twitter.com/dog_rates/status/891815181...                12   \n",
       "3  https://twitter.com/dog_rates/status/891689557...                13   \n",
       "4  https://twitter.com/dog_rates/status/891327558...                12   \n",
       "\n",
       "   rating_denominator      name doggo floofer pupper puppo  \n",
       "0                  10   Phineas  None    None   None  None  \n",
       "1                  10     Tilly  None    None   None  None  \n",
       "2                  10    Archie  None    None   None  None  \n",
       "3                  10     Darla  None    None   None  None  \n",
       "4                  10  Franklin  None    None   None  None  "
      ]
     },
     "execution_count": 573,
     "metadata": {},
     "output_type": "execute_result"
    }
   ],
   "source": [
    "twitter_archive.sort_values('timestamp')\n",
    "twitter_archive.head()"
   ]
  },
  {
   "cell_type": "code",
   "execution_count": 574,
   "metadata": {},
   "outputs": [
    {
     "name": "stdout",
     "output_type": "stream",
     "text": [
      "<class 'pandas.core.frame.DataFrame'>\n",
      "RangeIndex: 2356 entries, 0 to 2355\n",
      "Data columns (total 17 columns):\n",
      "tweet_id                      2356 non-null int64\n",
      "in_reply_to_status_id         78 non-null float64\n",
      "in_reply_to_user_id           78 non-null float64\n",
      "timestamp                     2356 non-null object\n",
      "source                        2356 non-null object\n",
      "text                          2356 non-null object\n",
      "retweeted_status_id           181 non-null float64\n",
      "retweeted_status_user_id      181 non-null float64\n",
      "retweeted_status_timestamp    181 non-null object\n",
      "expanded_urls                 2297 non-null object\n",
      "rating_numerator              2356 non-null int64\n",
      "rating_denominator            2356 non-null int64\n",
      "name                          2356 non-null object\n",
      "doggo                         2356 non-null object\n",
      "floofer                       2356 non-null object\n",
      "pupper                        2356 non-null object\n",
      "puppo                         2356 non-null object\n",
      "dtypes: float64(4), int64(3), object(10)\n",
      "memory usage: 313.0+ KB\n"
     ]
    }
   ],
   "source": [
    "twitter_archive.info()"
   ]
  },
  {
   "cell_type": "markdown",
   "metadata": {},
   "source": [
    "**2. Tweet image prediction**"
   ]
  },
  {
   "cell_type": "code",
   "execution_count": 575,
   "metadata": {},
   "outputs": [],
   "source": [
    "# This if statement is used to prevent this cell to be run twice.\n",
    "if False:\n",
    "    #URL downloaded programatically \n",
    "    url = \"https://d17h27t6h515a5.cloudfront.net/topher/2017/August/599fd2ad_image-predictions/image-predictions.tsv\"\n",
    "    response = requests.get(url)\n",
    "\n",
    "    with open('image-predictions.tsv', mode ='wb') as file:\n",
    "        file.write(response.content)"
   ]
  },
  {
   "cell_type": "code",
   "execution_count": 576,
   "metadata": {},
   "outputs": [],
   "source": [
    "#Read TSV file\n",
    "image_prediction_original = pd.read_csv('image-predictions.tsv', sep='\\t' )"
   ]
  },
  {
   "cell_type": "code",
   "execution_count": 577,
   "metadata": {},
   "outputs": [
    {
     "name": "stdout",
     "output_type": "stream",
     "text": [
      "<class 'pandas.core.frame.DataFrame'>\n",
      "RangeIndex: 2075 entries, 0 to 2074\n",
      "Data columns (total 12 columns):\n",
      "tweet_id    2075 non-null int64\n",
      "jpg_url     2075 non-null object\n",
      "img_num     2075 non-null int64\n",
      "p1          2075 non-null object\n",
      "p1_conf     2075 non-null float64\n",
      "p1_dog      2075 non-null bool\n",
      "p2          2075 non-null object\n",
      "p2_conf     2075 non-null float64\n",
      "p2_dog      2075 non-null bool\n",
      "p3          2075 non-null object\n",
      "p3_conf     2075 non-null float64\n",
      "p3_dog      2075 non-null bool\n",
      "dtypes: bool(3), float64(3), int64(2), object(4)\n",
      "memory usage: 152.1+ KB\n"
     ]
    }
   ],
   "source": [
    "image_prediction_original.info()"
   ]
  },
  {
   "cell_type": "code",
   "execution_count": 578,
   "metadata": {},
   "outputs": [],
   "source": [
    "#https://stackoverflow.com/questions/28384588/twitter-api-get-tweets-with-specific-id\n",
    "\n",
    "auth = tweepy.OAuthHandler('XXX', 'XXX')\n",
    "auth.set_access_token('XXX', 'XXX')\n",
    "api = tweepy.API(auth, \n",
    "                 parser = tweepy.parsers.JSONParser(), \n",
    "                 wait_on_rate_limit = True, \n",
    "                 wait_on_rate_limit_notify = True)\n"
   ]
  },
  {
   "cell_type": "markdown",
   "metadata": {},
   "source": [
    "**3. Twitter API & JSON**\n",
    "\n",
    "https://stackoverflow.com/questions/47612822/how-to-create-pandas-dataframe-from-twitter-search-api"
   ]
  },
  {
   "cell_type": "code",
   "execution_count": 579,
   "metadata": {},
   "outputs": [],
   "source": [
    "# Using the tweet IDs in the Twitter archive, query the Twitter API for each tweet's JSON\n",
    "\n",
    "# This if statement is used to prevent this cell to be run twice.\n",
    "if False:\n",
    "    start = time.time() # start timer\n",
    "\n",
    "    with open('getstatus_error.txt', 'w') as errfile: \n",
    "        valid_ids = 0\n",
    "        err_ids = 0\n",
    "        tweet_ids = twitter_archive.tweet_id\n",
    "        with open('tweet_json.txt', 'w', encoding='utf-8') as outfile:\n",
    "            for i, tweet_id in tweet_ids.iteritems():\n",
    "                try:\n",
    "                    print(\"%s# %s\" % (str(i+1), tweet_id))\n",
    "                    # Get tweet data using Twitter API\n",
    "                    tweet = api.get_status(tweet_id, tweet_mode='extended')\n",
    "                    json_content = tweet\n",
    "\n",
    "                    # Write each tweet's JSON data to its own line in a file\n",
    "                    json.dump(json_content, outfile)\n",
    "                    outfile.write('\\n')\n",
    "                    valid_ids += 1\n",
    "                except tweepy.TweepError as e:\n",
    "                    err_ids += 1\n",
    "                    err_str = []\n",
    "                    err_str.append(str(tweet_id))\n",
    "                    err_str.append(': ')\n",
    "                    err_str.append(e.response.json()['errors'][0]['message'])\n",
    "                    err_str.append('\\n')\n",
    "                    errfile.write(''.join(err_str))\n",
    "                    print(''.join(err_str))\n",
    "                    continue\n",
    "            print(\"%s %s\" % ('Valid tweets:', valid_ids))\n",
    "            print(\"%s %s\" % ('Error tweets:', err_ids))\n",
    "\n",
    "    end = time.time() # end timer\n",
    "    print((end - start)/(1000*60))"
   ]
  },
  {
   "cell_type": "code",
   "execution_count": 580,
   "metadata": {},
   "outputs": [],
   "source": [
    "# List of dictionaries to read tweet's JSON data line by line and later convert to a DataFrame\n",
    "df_list = []\n",
    "with open('tweet_json.txt', 'r') as json_file:\n",
    "    for line in json_file:\n",
    "        status = json.loads(line)\n",
    "        \n",
    "        # Append to list of dictionaries\n",
    "        df_list.append({'tweet_id': status['id'],\n",
    "                        'retweet_count': status['retweet_count'],\n",
    "                        'favorite_count': status['favorite_count'],\n",
    "                        'display_text_range': status['display_text_range']\n",
    "                       })\n",
    "\n",
    "# Create a DataFrame with tweet ID, retweet count, favorite count and display_text_range\n",
    "status_df_original = pd.DataFrame(df_list, columns = ['tweet_id', 'retweet_count', 'favorite_count', 'display_text_range'])"
   ]
  },
  {
   "cell_type": "markdown",
   "metadata": {},
   "source": [
    "---"
   ]
  },
  {
   "cell_type": "markdown",
   "metadata": {},
   "source": [
    "# Assessing Data"
   ]
  },
  {
   "cell_type": "code",
   "execution_count": 581,
   "metadata": {},
   "outputs": [
    {
     "data": {
      "text/html": [
       "<div>\n",
       "<style scoped>\n",
       "    .dataframe tbody tr th:only-of-type {\n",
       "        vertical-align: middle;\n",
       "    }\n",
       "\n",
       "    .dataframe tbody tr th {\n",
       "        vertical-align: top;\n",
       "    }\n",
       "\n",
       "    .dataframe thead th {\n",
       "        text-align: right;\n",
       "    }\n",
       "</style>\n",
       "<table border=\"1\" class=\"dataframe\">\n",
       "  <thead>\n",
       "    <tr style=\"text-align: right;\">\n",
       "      <th></th>\n",
       "      <th>tweet_id</th>\n",
       "      <th>in_reply_to_status_id</th>\n",
       "      <th>in_reply_to_user_id</th>\n",
       "      <th>timestamp</th>\n",
       "      <th>source</th>\n",
       "      <th>text</th>\n",
       "      <th>retweeted_status_id</th>\n",
       "      <th>retweeted_status_user_id</th>\n",
       "      <th>retweeted_status_timestamp</th>\n",
       "      <th>expanded_urls</th>\n",
       "      <th>rating_numerator</th>\n",
       "      <th>rating_denominator</th>\n",
       "      <th>name</th>\n",
       "      <th>doggo</th>\n",
       "      <th>floofer</th>\n",
       "      <th>pupper</th>\n",
       "      <th>puppo</th>\n",
       "    </tr>\n",
       "  </thead>\n",
       "  <tbody>\n",
       "    <tr>\n",
       "      <th>2332</th>\n",
       "      <td>666345417576210432</td>\n",
       "      <td>NaN</td>\n",
       "      <td>NaN</td>\n",
       "      <td>2015-11-16 20:01:42 +0000</td>\n",
       "      <td>&lt;a href=\"http://twitter.com/download/iphone\" r...</td>\n",
       "      <td>Look at this jokester thinking seat belt laws ...</td>\n",
       "      <td>NaN</td>\n",
       "      <td>NaN</td>\n",
       "      <td>NaN</td>\n",
       "      <td>https://twitter.com/dog_rates/status/666345417...</td>\n",
       "      <td>10</td>\n",
       "      <td>10</td>\n",
       "      <td>None</td>\n",
       "      <td>None</td>\n",
       "      <td>None</td>\n",
       "      <td>None</td>\n",
       "      <td>None</td>\n",
       "    </tr>\n",
       "    <tr>\n",
       "      <th>480</th>\n",
       "      <td>815736392542261248</td>\n",
       "      <td>NaN</td>\n",
       "      <td>NaN</td>\n",
       "      <td>2017-01-02 01:48:06 +0000</td>\n",
       "      <td>&lt;a href=\"http://twitter.com/download/iphone\" r...</td>\n",
       "      <td>This is Akumi. It's his birthday. He received ...</td>\n",
       "      <td>NaN</td>\n",
       "      <td>NaN</td>\n",
       "      <td>NaN</td>\n",
       "      <td>https://twitter.com/dog_rates/status/815736392...</td>\n",
       "      <td>11</td>\n",
       "      <td>10</td>\n",
       "      <td>Akumi</td>\n",
       "      <td>None</td>\n",
       "      <td>None</td>\n",
       "      <td>None</td>\n",
       "      <td>None</td>\n",
       "    </tr>\n",
       "    <tr>\n",
       "      <th>1402</th>\n",
       "      <td>699423671849451520</td>\n",
       "      <td>NaN</td>\n",
       "      <td>NaN</td>\n",
       "      <td>2016-02-16 02:42:52 +0000</td>\n",
       "      <td>&lt;a href=\"http://twitter.com/download/iphone\" r...</td>\n",
       "      <td>\"Don't ever talk to me or my son again.\" ...bo...</td>\n",
       "      <td>NaN</td>\n",
       "      <td>NaN</td>\n",
       "      <td>NaN</td>\n",
       "      <td>https://twitter.com/dog_rates/status/699423671...</td>\n",
       "      <td>10</td>\n",
       "      <td>10</td>\n",
       "      <td>None</td>\n",
       "      <td>None</td>\n",
       "      <td>None</td>\n",
       "      <td>None</td>\n",
       "      <td>None</td>\n",
       "    </tr>\n",
       "    <tr>\n",
       "      <th>1881</th>\n",
       "      <td>675003128568291329</td>\n",
       "      <td>NaN</td>\n",
       "      <td>NaN</td>\n",
       "      <td>2015-12-10 17:24:21 +0000</td>\n",
       "      <td>&lt;a href=\"http://twitter.com/download/iphone\" r...</td>\n",
       "      <td>Meet Laela. She's adorable. Magnificent eyes. ...</td>\n",
       "      <td>NaN</td>\n",
       "      <td>NaN</td>\n",
       "      <td>NaN</td>\n",
       "      <td>https://twitter.com/dog_rates/status/675003128...</td>\n",
       "      <td>12</td>\n",
       "      <td>10</td>\n",
       "      <td>Laela</td>\n",
       "      <td>None</td>\n",
       "      <td>None</td>\n",
       "      <td>None</td>\n",
       "      <td>None</td>\n",
       "    </tr>\n",
       "    <tr>\n",
       "      <th>994</th>\n",
       "      <td>748568946752774144</td>\n",
       "      <td>NaN</td>\n",
       "      <td>NaN</td>\n",
       "      <td>2016-06-30 17:28:39 +0000</td>\n",
       "      <td>&lt;a href=\"http://twitter.com/download/iphone\" r...</td>\n",
       "      <td>This is Cora. She rings a bell for treats. 12/...</td>\n",
       "      <td>NaN</td>\n",
       "      <td>NaN</td>\n",
       "      <td>NaN</td>\n",
       "      <td>https://twitter.com/dog_rates/status/748568946...</td>\n",
       "      <td>12</td>\n",
       "      <td>10</td>\n",
       "      <td>Cora</td>\n",
       "      <td>None</td>\n",
       "      <td>None</td>\n",
       "      <td>None</td>\n",
       "      <td>None</td>\n",
       "    </tr>\n",
       "  </tbody>\n",
       "</table>\n",
       "</div>"
      ],
      "text/plain": [
       "                tweet_id  in_reply_to_status_id  in_reply_to_user_id  \\\n",
       "2332  666345417576210432                    NaN                  NaN   \n",
       "480   815736392542261248                    NaN                  NaN   \n",
       "1402  699423671849451520                    NaN                  NaN   \n",
       "1881  675003128568291329                    NaN                  NaN   \n",
       "994   748568946752774144                    NaN                  NaN   \n",
       "\n",
       "                      timestamp  \\\n",
       "2332  2015-11-16 20:01:42 +0000   \n",
       "480   2017-01-02 01:48:06 +0000   \n",
       "1402  2016-02-16 02:42:52 +0000   \n",
       "1881  2015-12-10 17:24:21 +0000   \n",
       "994   2016-06-30 17:28:39 +0000   \n",
       "\n",
       "                                                 source  \\\n",
       "2332  <a href=\"http://twitter.com/download/iphone\" r...   \n",
       "480   <a href=\"http://twitter.com/download/iphone\" r...   \n",
       "1402  <a href=\"http://twitter.com/download/iphone\" r...   \n",
       "1881  <a href=\"http://twitter.com/download/iphone\" r...   \n",
       "994   <a href=\"http://twitter.com/download/iphone\" r...   \n",
       "\n",
       "                                                   text  retweeted_status_id  \\\n",
       "2332  Look at this jokester thinking seat belt laws ...                  NaN   \n",
       "480   This is Akumi. It's his birthday. He received ...                  NaN   \n",
       "1402  \"Don't ever talk to me or my son again.\" ...bo...                  NaN   \n",
       "1881  Meet Laela. She's adorable. Magnificent eyes. ...                  NaN   \n",
       "994   This is Cora. She rings a bell for treats. 12/...                  NaN   \n",
       "\n",
       "      retweeted_status_user_id retweeted_status_timestamp  \\\n",
       "2332                       NaN                        NaN   \n",
       "480                        NaN                        NaN   \n",
       "1402                       NaN                        NaN   \n",
       "1881                       NaN                        NaN   \n",
       "994                        NaN                        NaN   \n",
       "\n",
       "                                          expanded_urls  rating_numerator  \\\n",
       "2332  https://twitter.com/dog_rates/status/666345417...                10   \n",
       "480   https://twitter.com/dog_rates/status/815736392...                11   \n",
       "1402  https://twitter.com/dog_rates/status/699423671...                10   \n",
       "1881  https://twitter.com/dog_rates/status/675003128...                12   \n",
       "994   https://twitter.com/dog_rates/status/748568946...                12   \n",
       "\n",
       "      rating_denominator   name doggo floofer pupper puppo  \n",
       "2332                  10   None  None    None   None  None  \n",
       "480                   10  Akumi  None    None   None  None  \n",
       "1402                  10   None  None    None   None  None  \n",
       "1881                  10  Laela  None    None   None  None  \n",
       "994                   10   Cora  None    None   None  None  "
      ]
     },
     "execution_count": 581,
     "metadata": {},
     "output_type": "execute_result"
    }
   ],
   "source": [
    "twitter_archive.sample(5)"
   ]
  },
  {
   "cell_type": "markdown",
   "metadata": {},
   "source": [
    "`twitter_archive` (Twitter archive) columns:\n",
    "- **tweet_id**: the unique identifier for each tweet\n",
    "- **in_reply_to_status_id**: if the represented Tweet is a reply, this field will contain the integer representation of the original Tweet’s ID\n",
    "- **in_reply_to_user_id**: if the represented Tweet is a reply, this field will contain the integer representation of the original Tweet’s author ID\n",
    "- **timestamp**: time when this Tweet was created\n",
    "- **source**: utility used to post the Tweet, as an HTML-formatted string. e.g. Twitter for Android, Twitter for iPhone, Twitter Web Client\n",
    "- **text**: actual UTF-8 text of the status update\n",
    "- **retweeted_status_id**: if the represented Tweet is a retweet, this field will contain the integer representation of the original Tweet’s ID\n",
    "- **retweeted_status_user_id**: if the represented Tweet is a retweet, this field will contain the integer representation of the original Tweet’s author ID\n",
    "- **retweeted_status_timestamp**: time of retweet\n",
    "- **expanded_urls**: tweet URL\n",
    "- **rating_numerator**: numerator of the rating of a dog. Note: ratings almost always greater than 10\n",
    "- **rating_denominator**: denominator of the rating of a dog. Note: ratings almost always have a denominator of 10\n",
    "- **name**: name of the dog\n",
    "- **doggo**: one of the 4 dog \"stage\"\n",
    "- **floofer**: one of the 4 dog \"stage\"\n",
    "- **pupper**: one of the 4 dog \"stage\"\n",
    "- **puppo**: one of the 4 dog \"stage\""
   ]
  },
  {
   "cell_type": "code",
   "execution_count": 582,
   "metadata": {},
   "outputs": [
    {
     "data": {
      "text/plain": [
       "181"
      ]
     },
     "execution_count": 582,
     "metadata": {},
     "output_type": "execute_result"
    }
   ],
   "source": [
    "# Get the number of retweet\n",
    "len(twitter_archive[twitter_archive.retweeted_status_id.isnull() == False])"
   ]
  },
  {
   "cell_type": "code",
   "execution_count": 583,
   "metadata": {},
   "outputs": [
    {
     "data": {
      "text/plain": [
       "281"
      ]
     },
     "execution_count": 583,
     "metadata": {},
     "output_type": "execute_result"
    }
   ],
   "source": [
    "# Check if there are any records in arc_df whose corresponding record with same tweet_id is missing in image_prediction_original table\n",
    "len(twitter_archive[~twitter_archive.tweet_id.isin(image_prediction_original.tweet_id)])"
   ]
  },
  {
   "cell_type": "code",
   "execution_count": 584,
   "metadata": {},
   "outputs": [
    {
     "data": {
      "text/plain": [
       "0         1\n",
       "2         1\n",
       "7         1\n",
       "10     2333\n",
       "11        3\n",
       "15        1\n",
       "16        1\n",
       "20        2\n",
       "40        1\n",
       "50        3\n",
       "70        1\n",
       "80        2\n",
       "90        1\n",
       "110       1\n",
       "120       1\n",
       "130       1\n",
       "150       1\n",
       "170       1\n",
       "Name: rating_denominator, dtype: int64"
      ]
     },
     "execution_count": 584,
     "metadata": {},
     "output_type": "execute_result"
    }
   ],
   "source": [
    "# Sort by rating_denominator values\n",
    "twitter_archive.rating_denominator.value_counts().sort_index()"
   ]
  },
  {
   "cell_type": "code",
   "execution_count": 585,
   "metadata": {},
   "outputs": [
    {
     "data": {
      "text/plain": [
       "0         2\n",
       "1         9\n",
       "2         9\n",
       "3        19\n",
       "4        17\n",
       "5        37\n",
       "6        32\n",
       "7        55\n",
       "8       102\n",
       "9       158\n",
       "10      461\n",
       "11      464\n",
       "12      558\n",
       "13      351\n",
       "14       54\n",
       "15        2\n",
       "17        1\n",
       "20        1\n",
       "24        1\n",
       "26        1\n",
       "27        1\n",
       "44        1\n",
       "45        1\n",
       "50        1\n",
       "60        1\n",
       "75        2\n",
       "80        1\n",
       "84        1\n",
       "88        1\n",
       "99        1\n",
       "121       1\n",
       "143       1\n",
       "144       1\n",
       "165       1\n",
       "182       1\n",
       "204       1\n",
       "420       2\n",
       "666       1\n",
       "960       1\n",
       "1776      1\n",
       "Name: rating_numerator, dtype: int64"
      ]
     },
     "execution_count": 585,
     "metadata": {},
     "output_type": "execute_result"
    }
   ],
   "source": [
    "# Sort by rating_numerator values\n",
    "twitter_archive.rating_numerator.value_counts().sort_index()"
   ]
  },
  {
   "cell_type": "code",
   "execution_count": 586,
   "metadata": {},
   "outputs": [
    {
     "data": {
      "text/plain": [
       "very             5\n",
       "unacceptable     1\n",
       "this             1\n",
       "the              8\n",
       "such             1\n",
       "space            1\n",
       "quite            4\n",
       "one              4\n",
       "old              1\n",
       "officially       1\n",
       "not              2\n",
       "my               1\n",
       "mad              2\n",
       "light            1\n",
       "life             1\n",
       "just             4\n",
       "infuriating      1\n",
       "incredibly       1\n",
       "his              1\n",
       "getting          2\n",
       "by               1\n",
       "an               7\n",
       "all              1\n",
       "actually         2\n",
       "a               55\n",
       "Zuzu             1\n",
       "Zooey            1\n",
       "Zoey             3\n",
       "Zoe              1\n",
       "Ziva             1\n",
       "                ..\n",
       "Apollo           1\n",
       "Antony           1\n",
       "Anthony          1\n",
       "Anna             1\n",
       "Angel            1\n",
       "Andy             1\n",
       "Andru            1\n",
       "Anakin           2\n",
       "Amélie           1\n",
       "Amy              1\n",
       "Ambrose          1\n",
       "Amber            1\n",
       "Alice            2\n",
       "Alfy             1\n",
       "Alfie            5\n",
       "Alf              1\n",
       "Alexanderson     1\n",
       "Alexander        1\n",
       "Alejandro        1\n",
       "Aldrick          1\n",
       "Albus            2\n",
       "Albert           2\n",
       "Al               1\n",
       "Akumi            1\n",
       "Aja              1\n",
       "Aiden            1\n",
       "Adele            1\n",
       "Acro             1\n",
       "Ace              1\n",
       "Abby             2\n",
       "Name: name, Length: 957, dtype: int64"
      ]
     },
     "execution_count": 586,
     "metadata": {},
     "output_type": "execute_result"
    }
   ],
   "source": [
    "twitter_archive.name.value_counts().sort_index(ascending=False)"
   ]
  },
  {
   "cell_type": "code",
   "execution_count": 587,
   "metadata": {},
   "outputs": [
    {
     "data": {
      "text/plain": [
       "1"
      ]
     },
     "execution_count": 587,
     "metadata": {},
     "output_type": "execute_result"
    }
   ],
   "source": [
    "# Number of records whose both doggo and floofer columns are not None\n",
    "len(twitter_archive[(twitter_archive.doggo != 'None') & (twitter_archive.floofer != 'None')])"
   ]
  },
  {
   "cell_type": "code",
   "execution_count": 588,
   "metadata": {},
   "outputs": [
    {
     "data": {
      "text/plain": [
       "12"
      ]
     },
     "execution_count": 588,
     "metadata": {},
     "output_type": "execute_result"
    }
   ],
   "source": [
    "# Number of records whose both doggo and pupper columns are not None\n",
    "len(twitter_archive[(twitter_archive.doggo != 'None') & (twitter_archive.pupper != 'None')])"
   ]
  },
  {
   "cell_type": "code",
   "execution_count": 589,
   "metadata": {},
   "outputs": [
    {
     "data": {
      "text/plain": [
       "1"
      ]
     },
     "execution_count": 589,
     "metadata": {},
     "output_type": "execute_result"
    }
   ],
   "source": [
    "# Number of records whose both doggo and pupper columns are not None\n",
    "len(twitter_archive[(twitter_archive.doggo != 'None') & (twitter_archive.puppo != 'None')])"
   ]
  },
  {
   "cell_type": "code",
   "execution_count": 590,
   "metadata": {},
   "outputs": [
    {
     "data": {
      "text/plain": [
       "0"
      ]
     },
     "execution_count": 590,
     "metadata": {},
     "output_type": "execute_result"
    }
   ],
   "source": [
    "# Number of records whose both floofer and pupper columns are not None\n",
    "len(twitter_archive[(twitter_archive.floofer != 'None') & (twitter_archive.pupper != 'None')])"
   ]
  },
  {
   "cell_type": "code",
   "execution_count": 591,
   "metadata": {},
   "outputs": [
    {
     "data": {
      "text/plain": [
       "0"
      ]
     },
     "execution_count": 591,
     "metadata": {},
     "output_type": "execute_result"
    }
   ],
   "source": [
    "# Number of records whose both floofer and puppo columns are not None\n",
    "len(twitter_archive[(twitter_archive.floofer != 'None') & (twitter_archive.puppo != 'None')])"
   ]
  },
  {
   "cell_type": "code",
   "execution_count": 592,
   "metadata": {},
   "outputs": [
    {
     "data": {
      "text/plain": [
       "0"
      ]
     },
     "execution_count": 592,
     "metadata": {},
     "output_type": "execute_result"
    }
   ],
   "source": [
    "# Number of records whose both pupper and puppo columns are not None\n",
    "len(twitter_archive[(twitter_archive.pupper != 'None') & (twitter_archive.puppo != 'None')])"
   ]
  },
  {
   "cell_type": "code",
   "execution_count": 593,
   "metadata": {},
   "outputs": [
    {
     "data": {
      "text/html": [
       "<div>\n",
       "<style scoped>\n",
       "    .dataframe tbody tr th:only-of-type {\n",
       "        vertical-align: middle;\n",
       "    }\n",
       "\n",
       "    .dataframe tbody tr th {\n",
       "        vertical-align: top;\n",
       "    }\n",
       "\n",
       "    .dataframe thead th {\n",
       "        text-align: right;\n",
       "    }\n",
       "</style>\n",
       "<table border=\"1\" class=\"dataframe\">\n",
       "  <thead>\n",
       "    <tr style=\"text-align: right;\">\n",
       "      <th></th>\n",
       "      <th>tweet_id</th>\n",
       "      <th>jpg_url</th>\n",
       "      <th>img_num</th>\n",
       "      <th>p1</th>\n",
       "      <th>p1_conf</th>\n",
       "      <th>p1_dog</th>\n",
       "      <th>p2</th>\n",
       "      <th>p2_conf</th>\n",
       "      <th>p2_dog</th>\n",
       "      <th>p3</th>\n",
       "      <th>p3_conf</th>\n",
       "      <th>p3_dog</th>\n",
       "    </tr>\n",
       "  </thead>\n",
       "  <tbody>\n",
       "    <tr>\n",
       "      <th>998</th>\n",
       "      <td>708469915515297792</td>\n",
       "      <td>https://pbs.twimg.com/media/CdT9n7mW0AQcpZU.jpg</td>\n",
       "      <td>1</td>\n",
       "      <td>Chihuahua</td>\n",
       "      <td>0.748163</td>\n",
       "      <td>True</td>\n",
       "      <td>toy_terrier</td>\n",
       "      <td>0.127717</td>\n",
       "      <td>True</td>\n",
       "      <td>Pembroke</td>\n",
       "      <td>0.042141</td>\n",
       "      <td>True</td>\n",
       "    </tr>\n",
       "    <tr>\n",
       "      <th>711</th>\n",
       "      <td>685315239903100929</td>\n",
       "      <td>https://pbs.twimg.com/media/CYK6kf0WMAAzP-0.jpg</td>\n",
       "      <td>2</td>\n",
       "      <td>chow</td>\n",
       "      <td>0.470162</td>\n",
       "      <td>True</td>\n",
       "      <td>Pomeranian</td>\n",
       "      <td>0.159677</td>\n",
       "      <td>True</td>\n",
       "      <td>Eskimo_dog</td>\n",
       "      <td>0.105074</td>\n",
       "      <td>True</td>\n",
       "    </tr>\n",
       "    <tr>\n",
       "      <th>1202</th>\n",
       "      <td>741303864243200000</td>\n",
       "      <td>https://pbs.twimg.com/media/Ckmj7mNWYAA4NzZ.jpg</td>\n",
       "      <td>1</td>\n",
       "      <td>Chihuahua</td>\n",
       "      <td>0.768156</td>\n",
       "      <td>True</td>\n",
       "      <td>pug</td>\n",
       "      <td>0.014902</td>\n",
       "      <td>True</td>\n",
       "      <td>Pekinese</td>\n",
       "      <td>0.012816</td>\n",
       "      <td>True</td>\n",
       "    </tr>\n",
       "    <tr>\n",
       "      <th>2054</th>\n",
       "      <td>888078434458587136</td>\n",
       "      <td>https://pbs.twimg.com/media/DFMWn56WsAAkA7B.jpg</td>\n",
       "      <td>1</td>\n",
       "      <td>French_bulldog</td>\n",
       "      <td>0.995026</td>\n",
       "      <td>True</td>\n",
       "      <td>pug</td>\n",
       "      <td>0.000932</td>\n",
       "      <td>True</td>\n",
       "      <td>bull_mastiff</td>\n",
       "      <td>0.000903</td>\n",
       "      <td>True</td>\n",
       "    </tr>\n",
       "    <tr>\n",
       "      <th>1943</th>\n",
       "      <td>861383897657036800</td>\n",
       "      <td>https://pbs.twimg.com/media/C_RAFTxUAAAbXjV.jpg</td>\n",
       "      <td>1</td>\n",
       "      <td>Cardigan</td>\n",
       "      <td>0.771008</td>\n",
       "      <td>True</td>\n",
       "      <td>Pembroke</td>\n",
       "      <td>0.137174</td>\n",
       "      <td>True</td>\n",
       "      <td>French_bulldog</td>\n",
       "      <td>0.063309</td>\n",
       "      <td>True</td>\n",
       "    </tr>\n",
       "  </tbody>\n",
       "</table>\n",
       "</div>"
      ],
      "text/plain": [
       "                tweet_id                                          jpg_url  \\\n",
       "998   708469915515297792  https://pbs.twimg.com/media/CdT9n7mW0AQcpZU.jpg   \n",
       "711   685315239903100929  https://pbs.twimg.com/media/CYK6kf0WMAAzP-0.jpg   \n",
       "1202  741303864243200000  https://pbs.twimg.com/media/Ckmj7mNWYAA4NzZ.jpg   \n",
       "2054  888078434458587136  https://pbs.twimg.com/media/DFMWn56WsAAkA7B.jpg   \n",
       "1943  861383897657036800  https://pbs.twimg.com/media/C_RAFTxUAAAbXjV.jpg   \n",
       "\n",
       "      img_num              p1   p1_conf  p1_dog           p2   p2_conf  \\\n",
       "998         1       Chihuahua  0.748163    True  toy_terrier  0.127717   \n",
       "711         2            chow  0.470162    True   Pomeranian  0.159677   \n",
       "1202        1       Chihuahua  0.768156    True          pug  0.014902   \n",
       "2054        1  French_bulldog  0.995026    True          pug  0.000932   \n",
       "1943        1        Cardigan  0.771008    True     Pembroke  0.137174   \n",
       "\n",
       "      p2_dog              p3   p3_conf  p3_dog  \n",
       "998     True        Pembroke  0.042141    True  \n",
       "711     True      Eskimo_dog  0.105074    True  \n",
       "1202    True        Pekinese  0.012816    True  \n",
       "2054    True    bull_mastiff  0.000903    True  \n",
       "1943    True  French_bulldog  0.063309    True  "
      ]
     },
     "execution_count": 593,
     "metadata": {},
     "output_type": "execute_result"
    }
   ],
   "source": [
    "image_prediction_original.sample(5)"
   ]
  },
  {
   "cell_type": "markdown",
   "metadata": {},
   "source": [
    "`image_prediction_original` (tweet image predictions) columns:\n",
    "- **tweet_id**: the unique identifier for each tweet\n",
    "- **jpg_url**: dog's image URL\n",
    "- **img_num**: the image number that corresponded to the most confident prediction (numbered 1 to 4 since tweets can have up to four images)\n",
    "- **p1**: algorithm's #1 prediction for the image in the tweet\n",
    "- **p1_conf**: how confident the algorithm is in its #1 prediction\n",
    "- **p1_dog**: whether or not the #1 prediction is a breed of dog\n",
    "- **p2**: algorithm's #2 prediction for the image in the tweet\n",
    "- **p2_conf**: how confident the algorithm is in its #2 prediction\n",
    "- **p2_dog**: whether or not the #2 prediction is a breed of dog\n",
    "- **p3**: algorithm's #3 prediction for the image in the tweet\n",
    "- **p3_conf**: how confident the algorithm is in its #3 prediction\n",
    "- **p3_dog**: whether or not the #3 prediction is a breed of dog"
   ]
  },
  {
   "cell_type": "code",
   "execution_count": 594,
   "metadata": {},
   "outputs": [
    {
     "name": "stdout",
     "output_type": "stream",
     "text": [
      "<class 'pandas.core.frame.DataFrame'>\n",
      "RangeIndex: 2075 entries, 0 to 2074\n",
      "Data columns (total 12 columns):\n",
      "tweet_id    2075 non-null int64\n",
      "jpg_url     2075 non-null object\n",
      "img_num     2075 non-null int64\n",
      "p1          2075 non-null object\n",
      "p1_conf     2075 non-null float64\n",
      "p1_dog      2075 non-null bool\n",
      "p2          2075 non-null object\n",
      "p2_conf     2075 non-null float64\n",
      "p2_dog      2075 non-null bool\n",
      "p3          2075 non-null object\n",
      "p3_conf     2075 non-null float64\n",
      "p3_dog      2075 non-null bool\n",
      "dtypes: bool(3), float64(3), int64(2), object(4)\n",
      "memory usage: 152.1+ KB\n"
     ]
    }
   ],
   "source": [
    "image_prediction_original.info()"
   ]
  },
  {
   "cell_type": "code",
   "execution_count": 595,
   "metadata": {},
   "outputs": [
    {
     "data": {
      "text/html": [
       "<div>\n",
       "<style scoped>\n",
       "    .dataframe tbody tr th:only-of-type {\n",
       "        vertical-align: middle;\n",
       "    }\n",
       "\n",
       "    .dataframe tbody tr th {\n",
       "        vertical-align: top;\n",
       "    }\n",
       "\n",
       "    .dataframe thead th {\n",
       "        text-align: right;\n",
       "    }\n",
       "</style>\n",
       "<table border=\"1\" class=\"dataframe\">\n",
       "  <thead>\n",
       "    <tr style=\"text-align: right;\">\n",
       "      <th></th>\n",
       "      <th>tweet_id</th>\n",
       "      <th>retweet_count</th>\n",
       "      <th>favorite_count</th>\n",
       "      <th>display_text_range</th>\n",
       "    </tr>\n",
       "  </thead>\n",
       "  <tbody>\n",
       "    <tr>\n",
       "      <th>1780</th>\n",
       "      <td>677269281705472000</td>\n",
       "      <td>740</td>\n",
       "      <td>2050</td>\n",
       "      <td>[0, 96]</td>\n",
       "    </tr>\n",
       "    <tr>\n",
       "      <th>1726</th>\n",
       "      <td>679405845277462528</td>\n",
       "      <td>1267</td>\n",
       "      <td>2457</td>\n",
       "      <td>[0, 96]</td>\n",
       "    </tr>\n",
       "    <tr>\n",
       "      <th>838</th>\n",
       "      <td>765371061932261376</td>\n",
       "      <td>2313</td>\n",
       "      <td>7444</td>\n",
       "      <td>[0, 112]</td>\n",
       "    </tr>\n",
       "    <tr>\n",
       "      <th>1190</th>\n",
       "      <td>715758151270801409</td>\n",
       "      <td>1499</td>\n",
       "      <td>3845</td>\n",
       "      <td>[0, 122]</td>\n",
       "    </tr>\n",
       "    <tr>\n",
       "      <th>590</th>\n",
       "      <td>798628517273620480</td>\n",
       "      <td>2131</td>\n",
       "      <td>0</td>\n",
       "      <td>[0, 131]</td>\n",
       "    </tr>\n",
       "  </tbody>\n",
       "</table>\n",
       "</div>"
      ],
      "text/plain": [
       "                tweet_id  retweet_count  favorite_count display_text_range\n",
       "1780  677269281705472000            740            2050            [0, 96]\n",
       "1726  679405845277462528           1267            2457            [0, 96]\n",
       "838   765371061932261376           2313            7444           [0, 112]\n",
       "1190  715758151270801409           1499            3845           [0, 122]\n",
       "590   798628517273620480           2131               0           [0, 131]"
      ]
     },
     "execution_count": 595,
     "metadata": {},
     "output_type": "execute_result"
    }
   ],
   "source": [
    "status_df_original.sample(5)"
   ]
  },
  {
   "cell_type": "markdown",
   "metadata": {},
   "source": [
    "`status_df_original` (tweet status) columns:\n",
    "- **id**: the unique identifier for each tweet\n",
    "- **retweet_count**: number of times this Tweet has been retweeted\n",
    "- **favorite_count**: indicates approximately how many times this Tweet has been liked by Twitter users\n",
    "- **display_text_range**: an array of two unicode code point indices, identifying the inclusive start and exclusive end of the displayable content of the Tweet"
   ]
  },
  {
   "cell_type": "code",
   "execution_count": 596,
   "metadata": {},
   "outputs": [
    {
     "name": "stdout",
     "output_type": "stream",
     "text": [
      "<class 'pandas.core.frame.DataFrame'>\n",
      "RangeIndex: 2339 entries, 0 to 2338\n",
      "Data columns (total 4 columns):\n",
      "tweet_id              2339 non-null int64\n",
      "retweet_count         2339 non-null int64\n",
      "favorite_count        2339 non-null int64\n",
      "display_text_range    2339 non-null object\n",
      "dtypes: int64(3), object(1)\n",
      "memory usage: 73.2+ KB\n"
     ]
    }
   ],
   "source": [
    "status_df_original.info()"
   ]
  },
  {
   "cell_type": "markdown",
   "metadata": {},
   "source": [
    "### Quality\n",
    "##### `twitter_archive` (Twitter archive) table\n",
    "- contains retweets and therefore, duplicates\n",
    "- many *tweet_id*(s) of `twitter_archive` table are missing in `image_prediction_original` (image predictions) table\n",
    "- erroneous datatypes (*in_reply_to_status_id, in_reply_to_user_id and timestamp* columns)\n",
    "- unnecessary html tags in *source* column in place of utility name e.g. `<a href=\"\"http://twitter.com/download/iphone\"\" rel=\"\"nofollow\"\">Twitter for iPhone</a>`\n",
    "- *text* column contains untruncated text instead of displayable text\n",
    "- *rating_denominator* column has values other than 10\n",
    "- erroneous dog names starting with lowercase characters (e.g. a, an, actually, by)\n",
    "- `twitter_archive` without any duplicates (i.e. retweets) will have empty *retweeted_status_id, retweeted_status_user_id* and *retweeted_status_timestamp* columns, which can be dropped"
   ]
  },
  {
   "cell_type": "markdown",
   "metadata": {},
   "source": [
    "### Tidiness\n",
    "- *doggo, floofer, pupper* and *puppo* columns in `twitter_archive` table should be merged into one column named *\"stage\"*\n",
    "- *\"breed\"* column should be added in `twitter_archive` table; its values based on *p1_conf* and *p1_dog* columns of `image_prediction_original` (image predictions) table\n",
    "- The third rule of tidy data says: \"each type of observational unit forms a table\". The *retweet_count* and *favorite_count* from `status_df_original` (tweet status) table are part of the same observational unit as `twitter_archive` table so should be merged into the same table and stored in a file called twitter_archive_master.csv"
   ]
  },
  {
   "cell_type": "markdown",
   "metadata": {},
   "source": [
    "---"
   ]
  },
  {
   "cell_type": "markdown",
   "metadata": {},
   "source": [
    "## Cleaning Data"
   ]
  },
  {
   "cell_type": "code",
   "execution_count": 597,
   "metadata": {},
   "outputs": [],
   "source": [
    "# Take a copy of twitter_archive on which the cleaning tasks will be performed\n",
    "archive_clean = twitter_archive.copy()\n",
    "\n",
    "status_df = status_df_original.copy()\n",
    "image_prediction = image_prediction_original.copy()"
   ]
  },
  {
   "cell_type": "markdown",
   "metadata": {},
   "source": [
    "### Quality"
   ]
  },
  {
   "cell_type": "markdown",
   "metadata": {},
   "source": [
    "#### `twitter_archive`: contains retweets and therefore, duplicates"
   ]
  },
  {
   "cell_type": "markdown",
   "metadata": {},
   "source": [
    "##### Define\n",
    "Keep only those rows in `twitter_archive` table that are original tweets and NOT retweets (i.e. *retweeted_status_id* column is null). Delete the rest."
   ]
  },
  {
   "cell_type": "markdown",
   "metadata": {},
   "source": [
    "##### Code"
   ]
  },
  {
   "cell_type": "code",
   "execution_count": 598,
   "metadata": {},
   "outputs": [],
   "source": [
    "archive_clean = archive_clean[archive_clean.retweeted_status_id.isnull()]"
   ]
  },
  {
   "cell_type": "markdown",
   "metadata": {},
   "source": [
    "##### Test"
   ]
  },
  {
   "cell_type": "code",
   "execution_count": 599,
   "metadata": {},
   "outputs": [
    {
     "data": {
      "text/plain": [
       "0"
      ]
     },
     "execution_count": 599,
     "metadata": {},
     "output_type": "execute_result"
    }
   ],
   "source": [
    "len(archive_clean[archive_clean.retweeted_status_id.isnull() == False])"
   ]
  },
  {
   "cell_type": "markdown",
   "metadata": {},
   "source": [
    "#### `twitter_archive`: many *tweet_id*(s) of `twitter_archive` table are missing in `image_prediction` (image predictions) table"
   ]
  },
  {
   "cell_type": "markdown",
   "metadata": {},
   "source": [
    "##### Define\n",
    "Keep only those records in `twitter_archive` table whose *tweet_id* exists in `image_prediction` table"
   ]
  },
  {
   "cell_type": "markdown",
   "metadata": {},
   "source": [
    "##### Code"
   ]
  },
  {
   "cell_type": "code",
   "execution_count": 600,
   "metadata": {},
   "outputs": [],
   "source": [
    "archive_clean = archive_clean[archive_clean.tweet_id.isin(image_prediction.tweet_id)]"
   ]
  },
  {
   "cell_type": "markdown",
   "metadata": {},
   "source": [
    "##### Test"
   ]
  },
  {
   "cell_type": "code",
   "execution_count": 601,
   "metadata": {},
   "outputs": [
    {
     "data": {
      "text/plain": [
       "0"
      ]
     },
     "execution_count": 601,
     "metadata": {},
     "output_type": "execute_result"
    }
   ],
   "source": [
    "len(archive_clean[~archive_clean.tweet_id.isin(image_prediction.tweet_id)])"
   ]
  },
  {
   "cell_type": "markdown",
   "metadata": {},
   "source": [
    "#### `twitter_archive` table without any duplicates (i.e. retweets) have empty *retweeted_status_id, retweeted_status_user_id* and *retweeted_status_timestamp* columns, which can be dropped"
   ]
  },
  {
   "cell_type": "code",
   "execution_count": 602,
   "metadata": {},
   "outputs": [
    {
     "name": "stdout",
     "output_type": "stream",
     "text": [
      "<class 'pandas.core.frame.DataFrame'>\n",
      "Int64Index: 1994 entries, 0 to 2355\n",
      "Data columns (total 17 columns):\n",
      "tweet_id                      1994 non-null int64\n",
      "in_reply_to_status_id         23 non-null float64\n",
      "in_reply_to_user_id           23 non-null float64\n",
      "timestamp                     1994 non-null object\n",
      "source                        1994 non-null object\n",
      "text                          1994 non-null object\n",
      "retweeted_status_id           0 non-null float64\n",
      "retweeted_status_user_id      0 non-null float64\n",
      "retweeted_status_timestamp    0 non-null object\n",
      "expanded_urls                 1994 non-null object\n",
      "rating_numerator              1994 non-null int64\n",
      "rating_denominator            1994 non-null int64\n",
      "name                          1994 non-null object\n",
      "doggo                         1994 non-null object\n",
      "floofer                       1994 non-null object\n",
      "pupper                        1994 non-null object\n",
      "puppo                         1994 non-null object\n",
      "dtypes: float64(4), int64(3), object(10)\n",
      "memory usage: 280.4+ KB\n"
     ]
    }
   ],
   "source": [
    "archive_clean.info()"
   ]
  },
  {
   "cell_type": "markdown",
   "metadata": {},
   "source": [
    "##### Define\n",
    "Drop *retweeted_status_id, retweeted_status_user_id* and *retweeted_status_timestamp* columns from `twitter_archive` table"
   ]
  },
  {
   "cell_type": "markdown",
   "metadata": {},
   "source": [
    "#### Code"
   ]
  },
  {
   "cell_type": "code",
   "execution_count": 603,
   "metadata": {},
   "outputs": [],
   "source": [
    "archive_clean.drop(['retweeted_status_id', 'retweeted_status_user_id', 'retweeted_status_timestamp'], axis=1, inplace=True)"
   ]
  },
  {
   "cell_type": "markdown",
   "metadata": {},
   "source": [
    "#### Test"
   ]
  },
  {
   "cell_type": "code",
   "execution_count": 604,
   "metadata": {},
   "outputs": [
    {
     "name": "stdout",
     "output_type": "stream",
     "text": [
      "<class 'pandas.core.frame.DataFrame'>\n",
      "Int64Index: 1994 entries, 0 to 2355\n",
      "Data columns (total 14 columns):\n",
      "tweet_id                 1994 non-null int64\n",
      "in_reply_to_status_id    23 non-null float64\n",
      "in_reply_to_user_id      23 non-null float64\n",
      "timestamp                1994 non-null object\n",
      "source                   1994 non-null object\n",
      "text                     1994 non-null object\n",
      "expanded_urls            1994 non-null object\n",
      "rating_numerator         1994 non-null int64\n",
      "rating_denominator       1994 non-null int64\n",
      "name                     1994 non-null object\n",
      "doggo                    1994 non-null object\n",
      "floofer                  1994 non-null object\n",
      "pupper                   1994 non-null object\n",
      "puppo                    1994 non-null object\n",
      "dtypes: float64(2), int64(3), object(9)\n",
      "memory usage: 233.7+ KB\n"
     ]
    }
   ],
   "source": [
    "archive_clean.info()"
   ]
  },
  {
   "cell_type": "markdown",
   "metadata": {},
   "source": [
    "#### `twitter_archive`: erroneous datatypes (*in_reply_to_status_id, in_reply_to_user_id* and *timestamp* columns)"
   ]
  },
  {
   "cell_type": "markdown",
   "metadata": {},
   "source": [
    "##### Define\n",
    "Convert *in_reply_to_status_id* and *in_reply_to_user_id* to data type integer. Convert *timestamp* to datetime data type. Convert *rating_numerator* and *rating_denominator* to data type float."
   ]
  },
  {
   "cell_type": "markdown",
   "metadata": {},
   "source": [
    "##### Code"
   ]
  },
  {
   "cell_type": "code",
   "execution_count": 605,
   "metadata": {},
   "outputs": [],
   "source": [
    "archive_clean.in_reply_to_status_id = archive_clean.in_reply_to_status_id.fillna(0)\n",
    "archive_clean.in_reply_to_user_id = archive_clean.in_reply_to_user_id.fillna(0)\n",
    "\n",
    "archive_clean.in_reply_to_status_id = archive_clean.in_reply_to_status_id.astype(np.int64)\n",
    "archive_clean.in_reply_to_user_id = archive_clean.in_reply_to_user_id.astype(np.int64)\n",
    "\n",
    "archive_clean.timestamp = pd.to_datetime(archive_clean.timestamp)\n",
    "\n",
    "archive_clean.rating_numerator = archive_clean.rating_numerator.astype(np.float)\n",
    "archive_clean.rating_denominator = archive_clean.rating_denominator.astype(np.float)"
   ]
  },
  {
   "cell_type": "markdown",
   "metadata": {},
   "source": [
    "##### Test"
   ]
  },
  {
   "cell_type": "code",
   "execution_count": 606,
   "metadata": {},
   "outputs": [
    {
     "name": "stdout",
     "output_type": "stream",
     "text": [
      "<class 'pandas.core.frame.DataFrame'>\n",
      "Int64Index: 1994 entries, 0 to 2355\n",
      "Data columns (total 14 columns):\n",
      "tweet_id                 1994 non-null int64\n",
      "in_reply_to_status_id    1994 non-null int64\n",
      "in_reply_to_user_id      1994 non-null int64\n",
      "timestamp                1994 non-null datetime64[ns]\n",
      "source                   1994 non-null object\n",
      "text                     1994 non-null object\n",
      "expanded_urls            1994 non-null object\n",
      "rating_numerator         1994 non-null float64\n",
      "rating_denominator       1994 non-null float64\n",
      "name                     1994 non-null object\n",
      "doggo                    1994 non-null object\n",
      "floofer                  1994 non-null object\n",
      "pupper                   1994 non-null object\n",
      "puppo                    1994 non-null object\n",
      "dtypes: datetime64[ns](1), float64(2), int64(3), object(8)\n",
      "memory usage: 233.7+ KB\n"
     ]
    }
   ],
   "source": [
    "archive_clean.info()"
   ]
  },
  {
   "cell_type": "markdown",
   "metadata": {},
   "source": [
    "####  `twitter_archive`: unnecessary html tags in *source* column in place of utility name e.g. `<a href=\"\"http://twitter.com/download/iphone\"\" rel=\"\"nofollow\"\">Twitter for iPhone</a>`"
   ]
  },
  {
   "cell_type": "markdown",
   "metadata": {},
   "source": [
    "##### Define\n",
    "Strip all html anchor tags (i.e. `<a..></a>`) in *source* column and retain just the text in between the tags. Convert the datatype from string to categorical."
   ]
  },
  {
   "cell_type": "markdown",
   "metadata": {},
   "source": [
    "#### Code"
   ]
  },
  {
   "cell_type": "code",
   "execution_count": 607,
   "metadata": {},
   "outputs": [],
   "source": [
    "archive_clean.source = archive_clean.source.str.replace(r'<(?:a\\b[^>]*>|/a>)', '')"
   ]
  },
  {
   "cell_type": "code",
   "execution_count": 608,
   "metadata": {},
   "outputs": [],
   "source": [
    "archive_clean.source = archive_clean.source.astype('category')"
   ]
  },
  {
   "cell_type": "markdown",
   "metadata": {},
   "source": [
    "#### Test"
   ]
  },
  {
   "cell_type": "code",
   "execution_count": 609,
   "metadata": {},
   "outputs": [
    {
     "data": {
      "text/plain": [
       "Twitter for iPhone    1955\n",
       "Twitter Web Client      28\n",
       "TweetDeck               11\n",
       "Name: source, dtype: int64"
      ]
     },
     "execution_count": 609,
     "metadata": {},
     "output_type": "execute_result"
    }
   ],
   "source": [
    "archive_clean.source.value_counts()"
   ]
  },
  {
   "cell_type": "markdown",
   "metadata": {},
   "source": [
    "#### `twitter_archive`: *text* column contains untruncated text instead of displayable text"
   ]
  },
  {
   "cell_type": "markdown",
   "metadata": {},
   "source": [
    "##### Define\n",
    "Using the *display_text_range* of `status_df` table, extract displayable text from text column"
   ]
  },
  {
   "cell_type": "markdown",
   "metadata": {},
   "source": [
    "##### Code"
   ]
  },
  {
   "cell_type": "code",
   "execution_count": 610,
   "metadata": {},
   "outputs": [
    {
     "name": "stdout",
     "output_type": "stream",
     "text": [
      "This is Phineas. He's a mystical boy. Only ever appears in the hole of a donut. 13/10 https://t.co/MgUWQ76dJU\n",
      "This is Tilly. She's just checking pup on you. Hopes you're doing ok. If not, she's available for pats, snugs, boops, the whole bit. 13/10 https://t.co/0Xxu71qeIV\n",
      "This is Archie. He is a rare Norwegian Pouncing Corgo. Lives in the tall grass. You never know when one may strike. 12/10 https://t.co/wUnZnhtVJB\n"
     ]
    }
   ],
   "source": [
    "# Before extraction: untruncated text of first 3 records\n",
    "print(archive_clean.iloc[0].text)\n",
    "print(archive_clean.iloc[1].text)\n",
    "print(archive_clean.iloc[2].text)"
   ]
  },
  {
   "cell_type": "code",
   "execution_count": 611,
   "metadata": {},
   "outputs": [],
   "source": [
    "# merge status_df's display_text_range column to archive_clean to extract text using range values\n",
    "archive_clean = pd.merge(archive_clean, status_df[['tweet_id', 'display_text_range']], on='tweet_id')"
   ]
  },
  {
   "cell_type": "code",
   "execution_count": 612,
   "metadata": {},
   "outputs": [
    {
     "name": "stderr",
     "output_type": "stream",
     "text": [
      "/opt/conda/lib/python3.6/site-packages/ipykernel_launcher.py:5: FutureWarning: set_value is deprecated and will be removed in a future release. Please use .at[] or .iat[] accessors instead\n",
      "  \"\"\"\n"
     ]
    }
   ],
   "source": [
    "# using display_text_range of archive_clean, extract displayable text\n",
    "for i, row in archive_clean.iterrows():\n",
    "    text_range = row.display_text_range\n",
    "    display_text = row.text[text_range[0]:text_range[1]]\n",
    "    archive_clean.set_value(i, 'text', display_text)"
   ]
  },
  {
   "cell_type": "code",
   "execution_count": 613,
   "metadata": {},
   "outputs": [],
   "source": [
    "# drop display_text_range column\n",
    "archive_clean.drop('display_text_range', axis=1, inplace=True)"
   ]
  },
  {
   "cell_type": "markdown",
   "metadata": {},
   "source": [
    "##### Test"
   ]
  },
  {
   "cell_type": "code",
   "execution_count": 614,
   "metadata": {},
   "outputs": [
    {
     "name": "stdout",
     "output_type": "stream",
     "text": [
      "This is Phineas. He's a mystical boy. Only ever appears in the hole of a donut. 13/10\n",
      "This is Tilly. She's just checking pup on you. Hopes you're doing ok. If not, she's available for pats, snugs, boops, the whole bit. 13/10\n",
      "This is Archie. He is a rare Norwegian Pouncing Corgo. Lives in the tall grass. You never know when one may strike. 12/10\n"
     ]
    }
   ],
   "source": [
    "# After extraction: first 3 records now show displayable text\n",
    "print(archive_clean.iloc[0].text)\n",
    "print(archive_clean.iloc[1].text)\n",
    "print(archive_clean.iloc[2].text)  "
   ]
  },
  {
   "cell_type": "markdown",
   "metadata": {},
   "source": [
    "#### `twitter_archive`: *rating_denominator* column has values other than 10"
   ]
  },
  {
   "cell_type": "markdown",
   "metadata": {},
   "source": [
    "##### Define\n",
    "Standardized the denominator to be 10."
   ]
  },
  {
   "cell_type": "markdown",
   "metadata": {},
   "source": [
    "##### Code"
   ]
  },
  {
   "cell_type": "code",
   "execution_count": 615,
   "metadata": {},
   "outputs": [],
   "source": [
    "# regex to match fractions\n",
    "pattern = \"\\s*(\\d+([.]\\d+)?([/]\\d+))\"\n",
    "\n",
    "# function which will match the above pattern and return an array of fractions, if any\n",
    "def tokens(x):\n",
    "  return [m.group(1) for m in re.finditer(pattern, x)]"
   ]
  },
  {
   "cell_type": "code",
   "execution_count": 616,
   "metadata": {},
   "outputs": [
    {
     "name": "stderr",
     "output_type": "stream",
     "text": [
      "/opt/conda/lib/python3.6/site-packages/ipykernel_launcher.py:14: FutureWarning: set_value is deprecated and will be removed in a future release. Please use .at[] or .iat[] accessors instead\n",
      "  \n",
      "/opt/conda/lib/python3.6/site-packages/ipykernel_launcher.py:16: FutureWarning: set_value is deprecated and will be removed in a future release. Please use .at[] or .iat[] accessors instead\n",
      "  app.launch_new_instance()\n",
      "/opt/conda/lib/python3.6/site-packages/ipykernel_launcher.py:27: FutureWarning: set_value is deprecated and will be removed in a future release. Please use .at[] or .iat[] accessors instead\n",
      "/opt/conda/lib/python3.6/site-packages/ipykernel_launcher.py:29: FutureWarning: set_value is deprecated and will be removed in a future release. Please use .at[] or .iat[] accessors instead\n"
     ]
    }
   ],
   "source": [
    "# iterate through all those records whose rating_denominator is not 10\n",
    "for i, row in archive_clean[archive_clean.rating_denominator != 10].iterrows():\n",
    "    d = row.rating_denominator\n",
    "    \n",
    "    # if rating_denominator is greater than 10 and divisible by 10\n",
    "    if d > 10 and d%10 == 0:\n",
    "        # assign divisor as the quotient\n",
    "        divisor = d/10\n",
    "        n = row.rating_numerator\n",
    "        \n",
    "        # if rating_numerator is greater than 10 and divisible by the divisor\n",
    "        if n%divisor == 0:\n",
    "            # reassign rating_denominator as 10\n",
    "            archive_clean.set_value(i, 'rating_denominator', 10)\n",
    "            # reassign rating_numerator as the quotient of rating_numerator by divisor\n",
    "            archive_clean.set_value(i, 'rating_numerator', int(n/divisor))\n",
    "    \n",
    "    # for all those records whose rating_denominator is either less than 10 or not divisible by 10\n",
    "    else:\n",
    "        # extract all fractions(ratings) from text using tokens function\n",
    "        ratings = tokens(row.text)\n",
    "        # iterate through all the fractions\n",
    "        for rating in ratings:\n",
    "            # if denominator of any such fraction is equal to 10\n",
    "            if rating.split('/')[1] == '10':\n",
    "                # reassign rating_denominator as 10\n",
    "                archive_clean.set_value(i, 'rating_denominator', 10)\n",
    "                # reassign rating_numerator as the numerator value of this fraction\n",
    "                archive_clean.set_value(i, 'rating_numerator', int(round(float(rating.split('/')[0]))))\n",
    "                break"
   ]
  },
  {
   "cell_type": "markdown",
   "metadata": {},
   "source": [
    "##### Test"
   ]
  },
  {
   "cell_type": "code",
   "execution_count": 617,
   "metadata": {
    "scrolled": true
   },
   "outputs": [
    {
     "data": {
      "text/plain": [
       "10.0    1990\n",
       "7.0        1\n",
       "Name: rating_denominator, dtype: int64"
      ]
     },
     "execution_count": 617,
     "metadata": {},
     "output_type": "execute_result"
    }
   ],
   "source": [
    "archive_clean.rating_denominator.value_counts()"
   ]
  },
  {
   "cell_type": "markdown",
   "metadata": {},
   "source": [
    "#### `twitter_archive`: the more intuitive rating indicator *rating* column doesn't exist"
   ]
  },
  {
   "cell_type": "markdown",
   "metadata": {},
   "source": [
    "##### Define\n",
    "Create a rating column where `rating = rating_numerator / rating_denominator`"
   ]
  },
  {
   "cell_type": "markdown",
   "metadata": {},
   "source": [
    "##### Code"
   ]
  },
  {
   "cell_type": "code",
   "execution_count": 618,
   "metadata": {},
   "outputs": [],
   "source": [
    "#CODE: Create a new column with rating in float type to avoid converting all int column to float\n",
    "archive_clean['rating'] = 10 * archive_clean['rating_numerator'] / archive_clean['rating_denominator'].astype(float)"
   ]
  },
  {
   "cell_type": "markdown",
   "metadata": {},
   "source": [
    "##### Test"
   ]
  },
  {
   "cell_type": "code",
   "execution_count": 619,
   "metadata": {},
   "outputs": [
    {
     "data": {
      "text/html": [
       "<div>\n",
       "<style scoped>\n",
       "    .dataframe tbody tr th:only-of-type {\n",
       "        vertical-align: middle;\n",
       "    }\n",
       "\n",
       "    .dataframe tbody tr th {\n",
       "        vertical-align: top;\n",
       "    }\n",
       "\n",
       "    .dataframe thead th {\n",
       "        text-align: right;\n",
       "    }\n",
       "</style>\n",
       "<table border=\"1\" class=\"dataframe\">\n",
       "  <thead>\n",
       "    <tr style=\"text-align: right;\">\n",
       "      <th></th>\n",
       "      <th>tweet_id</th>\n",
       "      <th>in_reply_to_status_id</th>\n",
       "      <th>in_reply_to_user_id</th>\n",
       "      <th>timestamp</th>\n",
       "      <th>source</th>\n",
       "      <th>text</th>\n",
       "      <th>expanded_urls</th>\n",
       "      <th>rating_numerator</th>\n",
       "      <th>rating_denominator</th>\n",
       "      <th>name</th>\n",
       "      <th>doggo</th>\n",
       "      <th>floofer</th>\n",
       "      <th>pupper</th>\n",
       "      <th>puppo</th>\n",
       "      <th>rating</th>\n",
       "    </tr>\n",
       "  </thead>\n",
       "  <tbody>\n",
       "    <tr>\n",
       "      <th>1931</th>\n",
       "      <td>667119796878725120</td>\n",
       "      <td>0</td>\n",
       "      <td>0</td>\n",
       "      <td>2015-11-18 23:18:48</td>\n",
       "      <td>Twitter for iPhone</td>\n",
       "      <td>This is Gabe. He is a southern Baklava. Gabe h...</td>\n",
       "      <td>https://twitter.com/dog_rates/status/667119796...</td>\n",
       "      <td>10.0</td>\n",
       "      <td>10.0</td>\n",
       "      <td>Gabe</td>\n",
       "      <td>None</td>\n",
       "      <td>None</td>\n",
       "      <td>None</td>\n",
       "      <td>None</td>\n",
       "      <td>10.0</td>\n",
       "    </tr>\n",
       "    <tr>\n",
       "      <th>1390</th>\n",
       "      <td>679828447187857408</td>\n",
       "      <td>0</td>\n",
       "      <td>0</td>\n",
       "      <td>2015-12-24 00:58:27</td>\n",
       "      <td>Twitter for iPhone</td>\n",
       "      <td>Everybody look at this beautiful pupper 13/10 ...</td>\n",
       "      <td>https://twitter.com/dog_rates/status/679828447...</td>\n",
       "      <td>13.0</td>\n",
       "      <td>10.0</td>\n",
       "      <td>None</td>\n",
       "      <td>None</td>\n",
       "      <td>None</td>\n",
       "      <td>pupper</td>\n",
       "      <td>None</td>\n",
       "      <td>13.0</td>\n",
       "    </tr>\n",
       "    <tr>\n",
       "      <th>922</th>\n",
       "      <td>716791146589110272</td>\n",
       "      <td>0</td>\n",
       "      <td>0</td>\n",
       "      <td>2016-04-04 00:55:01</td>\n",
       "      <td>Twitter for iPhone</td>\n",
       "      <td>Meet Jennifur. She's supposed to be navigating...</td>\n",
       "      <td>https://twitter.com/dog_rates/status/716791146...</td>\n",
       "      <td>11.0</td>\n",
       "      <td>10.0</td>\n",
       "      <td>Jennifur</td>\n",
       "      <td>None</td>\n",
       "      <td>None</td>\n",
       "      <td>None</td>\n",
       "      <td>None</td>\n",
       "      <td>11.0</td>\n",
       "    </tr>\n",
       "    <tr>\n",
       "      <th>1582</th>\n",
       "      <td>673887867907739649</td>\n",
       "      <td>0</td>\n",
       "      <td>0</td>\n",
       "      <td>2015-12-07 15:32:42</td>\n",
       "      <td>Twitter for iPhone</td>\n",
       "      <td>When you're having a great time sleeping and y...</td>\n",
       "      <td>https://twitter.com/dog_rates/status/673887867...</td>\n",
       "      <td>10.0</td>\n",
       "      <td>10.0</td>\n",
       "      <td>None</td>\n",
       "      <td>None</td>\n",
       "      <td>None</td>\n",
       "      <td>None</td>\n",
       "      <td>None</td>\n",
       "      <td>10.0</td>\n",
       "    </tr>\n",
       "    <tr>\n",
       "      <th>1790</th>\n",
       "      <td>669683899023405056</td>\n",
       "      <td>0</td>\n",
       "      <td>0</td>\n",
       "      <td>2015-11-26 01:07:38</td>\n",
       "      <td>Twitter for iPhone</td>\n",
       "      <td>This is Kloey. Her mother was a unicorn. 10/10...</td>\n",
       "      <td>https://twitter.com/dog_rates/status/669683899...</td>\n",
       "      <td>10.0</td>\n",
       "      <td>10.0</td>\n",
       "      <td>Kloey</td>\n",
       "      <td>None</td>\n",
       "      <td>None</td>\n",
       "      <td>None</td>\n",
       "      <td>None</td>\n",
       "      <td>10.0</td>\n",
       "    </tr>\n",
       "  </tbody>\n",
       "</table>\n",
       "</div>"
      ],
      "text/plain": [
       "                tweet_id  in_reply_to_status_id  in_reply_to_user_id  \\\n",
       "1931  667119796878725120                      0                    0   \n",
       "1390  679828447187857408                      0                    0   \n",
       "922   716791146589110272                      0                    0   \n",
       "1582  673887867907739649                      0                    0   \n",
       "1790  669683899023405056                      0                    0   \n",
       "\n",
       "               timestamp              source  \\\n",
       "1931 2015-11-18 23:18:48  Twitter for iPhone   \n",
       "1390 2015-12-24 00:58:27  Twitter for iPhone   \n",
       "922  2016-04-04 00:55:01  Twitter for iPhone   \n",
       "1582 2015-12-07 15:32:42  Twitter for iPhone   \n",
       "1790 2015-11-26 01:07:38  Twitter for iPhone   \n",
       "\n",
       "                                                   text  \\\n",
       "1931  This is Gabe. He is a southern Baklava. Gabe h...   \n",
       "1390  Everybody look at this beautiful pupper 13/10 ...   \n",
       "922   Meet Jennifur. She's supposed to be navigating...   \n",
       "1582  When you're having a great time sleeping and y...   \n",
       "1790  This is Kloey. Her mother was a unicorn. 10/10...   \n",
       "\n",
       "                                          expanded_urls  rating_numerator  \\\n",
       "1931  https://twitter.com/dog_rates/status/667119796...              10.0   \n",
       "1390  https://twitter.com/dog_rates/status/679828447...              13.0   \n",
       "922   https://twitter.com/dog_rates/status/716791146...              11.0   \n",
       "1582  https://twitter.com/dog_rates/status/673887867...              10.0   \n",
       "1790  https://twitter.com/dog_rates/status/669683899...              10.0   \n",
       "\n",
       "      rating_denominator      name doggo floofer  pupper puppo  rating  \n",
       "1931                10.0      Gabe  None    None    None  None    10.0  \n",
       "1390                10.0      None  None    None  pupper  None    13.0  \n",
       "922                 10.0  Jennifur  None    None    None  None    11.0  \n",
       "1582                10.0      None  None    None    None  None    10.0  \n",
       "1790                10.0     Kloey  None    None    None  None    10.0  "
      ]
     },
     "execution_count": 619,
     "metadata": {},
     "output_type": "execute_result"
    }
   ],
   "source": [
    "#TEST\n",
    "archive_clean.sample(5)"
   ]
  },
  {
   "cell_type": "markdown",
   "metadata": {},
   "source": [
    "#### `twitter_archive`: erroneous dog names starting with lowercase characters (e.g. a, an, actually, by)"
   ]
  },
  {
   "cell_type": "markdown",
   "metadata": {},
   "source": [
    "##### Define\n",
    "Replace all lowercase values of *name* column with None"
   ]
  },
  {
   "cell_type": "markdown",
   "metadata": {},
   "source": [
    "##### Code"
   ]
  },
  {
   "cell_type": "code",
   "execution_count": 620,
   "metadata": {},
   "outputs": [],
   "source": [
    "archive_clean.loc[archive_clean['name'].str.match('[a-z]+'), 'name'] = 'None'"
   ]
  },
  {
   "cell_type": "markdown",
   "metadata": {},
   "source": [
    "##### Test"
   ]
  },
  {
   "cell_type": "code",
   "execution_count": 621,
   "metadata": {},
   "outputs": [
    {
     "data": {
      "text/plain": [
       "None    644\n",
       "Name: name, dtype: int64"
      ]
     },
     "execution_count": 621,
     "metadata": {},
     "output_type": "execute_result"
    }
   ],
   "source": [
    "archive_clean.name[archive_clean.name == 'None'].value_counts()"
   ]
  },
  {
   "cell_type": "code",
   "execution_count": 622,
   "metadata": {
    "scrolled": true
   },
   "outputs": [
    {
     "data": {
      "text/plain": [
       "Zuzu            1\n",
       "Zooey           1\n",
       "Zoey            3\n",
       "Zoe             1\n",
       "Ziva            1\n",
       "Zeus            1\n",
       "Zeke            3\n",
       "Zeek            1\n",
       "Zara            1\n",
       "Yogi            2\n",
       "Yoda            1\n",
       "Wyatt           3\n",
       "Wishes          1\n",
       "Winston         8\n",
       "Winnie          4\n",
       "Winifred        1\n",
       "Wilson          3\n",
       "Willy           1\n",
       "Willow          1\n",
       "Willie          1\n",
       "William         1\n",
       "Willem          1\n",
       "Wiggles         1\n",
       "Wesley          1\n",
       "Watson          2\n",
       "Walter          3\n",
       "Wally           2\n",
       "Wallace         3\n",
       "Walker          1\n",
       "Waffles         3\n",
       "               ..\n",
       "Apollo          1\n",
       "Antony          1\n",
       "Anthony         1\n",
       "Anna            1\n",
       "Angel           1\n",
       "Andy            1\n",
       "Andru           1\n",
       "Anakin          1\n",
       "Amélie          1\n",
       "Amy             1\n",
       "Ambrose         1\n",
       "Amber           1\n",
       "Alice           2\n",
       "Alfy            1\n",
       "Alfie           4\n",
       "Alf             1\n",
       "Alexanderson    1\n",
       "Alexander       1\n",
       "Alejandro       1\n",
       "Aldrick         1\n",
       "Albus           2\n",
       "Albert          2\n",
       "Al              1\n",
       "Akumi           1\n",
       "Aja             1\n",
       "Aiden           1\n",
       "Adele           1\n",
       "Acro            1\n",
       "Ace             1\n",
       "Abby            2\n",
       "Name: name, Length: 913, dtype: int64"
      ]
     },
     "execution_count": 622,
     "metadata": {},
     "output_type": "execute_result"
    }
   ],
   "source": [
    "# Sort ascending by name to check if there are more names starting with a lowercase alphabet\n",
    "archive_clean.name.value_counts().sort_index(ascending=False)"
   ]
  },
  {
   "cell_type": "markdown",
   "metadata": {},
   "source": [
    "#### `twitter_archive`: duplicated imageURLs present"
   ]
  },
  {
   "cell_type": "markdown",
   "metadata": {},
   "source": [
    "#### Define\n",
    "Remove all the duplicated imageURLs"
   ]
  },
  {
   "cell_type": "markdown",
   "metadata": {},
   "source": [
    "#### Code"
   ]
  },
  {
   "cell_type": "code",
   "execution_count": 623,
   "metadata": {},
   "outputs": [],
   "source": [
    "def remove_duplicate_url(x):\n",
    "    if ',' in x:\n",
    "        return x.split(',')[1].strip()\n",
    "    return x\n",
    "\n",
    "archive_clean['expanded_urls'] = archive_clean['expanded_urls'].apply(remove_duplicate_url)"
   ]
  },
  {
   "cell_type": "markdown",
   "metadata": {},
   "source": [
    "#### Test"
   ]
  },
  {
   "cell_type": "code",
   "execution_count": 624,
   "metadata": {},
   "outputs": [
    {
     "data": {
      "text/plain": [
       "0"
      ]
     },
     "execution_count": 624,
     "metadata": {},
     "output_type": "execute_result"
    }
   ],
   "source": [
    "len(archive_clean.loc[archive_clean.expanded_urls.str.contains(','), 'expanded_urls'])"
   ]
  },
  {
   "cell_type": "markdown",
   "metadata": {},
   "source": [
    "### Tidiness"
   ]
  },
  {
   "cell_type": "markdown",
   "metadata": {},
   "source": [
    "#### doggo, floofer, pupper and puppo columns in `twitter_archive` table should be merged into one column named \"stage\""
   ]
  },
  {
   "cell_type": "markdown",
   "metadata": {},
   "source": [
    "#### `twitter_archive`: some records have more than one dog stage"
   ]
  },
  {
   "cell_type": "code",
   "execution_count": 625,
   "metadata": {},
   "outputs": [
    {
     "name": "stdout",
     "output_type": "stream",
     "text": [
      "1\n",
      "1\n",
      "9\n"
     ]
    }
   ],
   "source": [
    "print(len(archive_clean[(archive_clean.doggo != 'None') & (archive_clean.floofer != 'None')]))\n",
    "print(len(archive_clean[(archive_clean.doggo != 'None') & (archive_clean.puppo != 'None')]))\n",
    "print(len(archive_clean[(archive_clean.doggo != 'None') & (archive_clean.pupper != 'None')]))"
   ]
  },
  {
   "cell_type": "code",
   "execution_count": 626,
   "metadata": {
    "scrolled": true
   },
   "outputs": [
    {
     "data": {
      "text/plain": [
       "None     1917\n",
       "doggo      74\n",
       "Name: doggo, dtype: int64"
      ]
     },
     "execution_count": 626,
     "metadata": {},
     "output_type": "execute_result"
    }
   ],
   "source": [
    "archive_clean.doggo.value_counts()"
   ]
  },
  {
   "cell_type": "code",
   "execution_count": 627,
   "metadata": {
    "scrolled": true
   },
   "outputs": [
    {
     "data": {
      "text/plain": [
       "None       1983\n",
       "floofer       8\n",
       "Name: floofer, dtype: int64"
      ]
     },
     "execution_count": 627,
     "metadata": {},
     "output_type": "execute_result"
    }
   ],
   "source": [
    "archive_clean.floofer.value_counts()"
   ]
  },
  {
   "cell_type": "code",
   "execution_count": 628,
   "metadata": {
    "scrolled": true
   },
   "outputs": [
    {
     "data": {
      "text/plain": [
       "None      1779\n",
       "pupper     212\n",
       "Name: pupper, dtype: int64"
      ]
     },
     "execution_count": 628,
     "metadata": {},
     "output_type": "execute_result"
    }
   ],
   "source": [
    "archive_clean.pupper.value_counts()"
   ]
  },
  {
   "cell_type": "code",
   "execution_count": 629,
   "metadata": {},
   "outputs": [
    {
     "data": {
      "text/plain": [
       "None     1968\n",
       "puppo      23\n",
       "Name: puppo, dtype: int64"
      ]
     },
     "execution_count": 629,
     "metadata": {},
     "output_type": "execute_result"
    }
   ],
   "source": [
    "archive_clean.puppo.value_counts()"
   ]
  },
  {
   "cell_type": "markdown",
   "metadata": {},
   "source": [
    "##### Define\n",
    "\n",
    "Merge the doggo, floofer, pupper and puppo columns to a stage column. Convert the datatype from string to categorical as it helps with analysis and visualization and saves memory on disk. Drop the doggo, floofer, pupper and puppo columns."
   ]
  },
  {
   "cell_type": "code",
   "execution_count": 630,
   "metadata": {},
   "outputs": [],
   "source": [
    "def none_to_empty(x):\n",
    "    if x == 'None':\n",
    "        return ''\n",
    "    return x\n",
    "\n",
    "archive_clean['stage'] = archive_clean['doggo'].apply(none_to_empty) + \\\n",
    "        archive_clean['floofer'].apply(none_to_empty) + \\\n",
    "        archive_clean['pupper'].apply(none_to_empty) + \\\n",
    "        archive_clean['puppo'].apply(none_to_empty)\n",
    "archive_clean.stage = archive_clean.stage.astype('category')\n",
    "archive_clean.drop(['doggo', 'floofer', 'pupper', 'puppo'], axis=1, inplace=True)"
   ]
  },
  {
   "cell_type": "markdown",
   "metadata": {},
   "source": [
    "#### Test"
   ]
  },
  {
   "cell_type": "code",
   "execution_count": 631,
   "metadata": {},
   "outputs": [
    {
     "name": "stdout",
     "output_type": "stream",
     "text": [
      "<class 'pandas.core.frame.DataFrame'>\n",
      "Int64Index: 1991 entries, 0 to 1990\n",
      "Data columns (total 12 columns):\n",
      "tweet_id                 1991 non-null int64\n",
      "in_reply_to_status_id    1991 non-null int64\n",
      "in_reply_to_user_id      1991 non-null int64\n",
      "timestamp                1991 non-null datetime64[ns]\n",
      "source                   1991 non-null category\n",
      "text                     1991 non-null object\n",
      "expanded_urls            1991 non-null object\n",
      "rating_numerator         1991 non-null float64\n",
      "rating_denominator       1991 non-null float64\n",
      "name                     1991 non-null object\n",
      "rating                   1991 non-null float64\n",
      "stage                    1991 non-null category\n",
      "dtypes: category(2), datetime64[ns](1), float64(3), int64(3), object(3)\n",
      "memory usage: 255.5+ KB\n"
     ]
    },
    {
     "data": {
      "text/html": [
       "<div>\n",
       "<style scoped>\n",
       "    .dataframe tbody tr th:only-of-type {\n",
       "        vertical-align: middle;\n",
       "    }\n",
       "\n",
       "    .dataframe tbody tr th {\n",
       "        vertical-align: top;\n",
       "    }\n",
       "\n",
       "    .dataframe thead th {\n",
       "        text-align: right;\n",
       "    }\n",
       "</style>\n",
       "<table border=\"1\" class=\"dataframe\">\n",
       "  <thead>\n",
       "    <tr style=\"text-align: right;\">\n",
       "      <th></th>\n",
       "      <th>tweet_id</th>\n",
       "      <th>in_reply_to_status_id</th>\n",
       "      <th>in_reply_to_user_id</th>\n",
       "      <th>timestamp</th>\n",
       "      <th>source</th>\n",
       "      <th>text</th>\n",
       "      <th>expanded_urls</th>\n",
       "      <th>rating_numerator</th>\n",
       "      <th>rating_denominator</th>\n",
       "      <th>name</th>\n",
       "      <th>rating</th>\n",
       "      <th>stage</th>\n",
       "    </tr>\n",
       "  </thead>\n",
       "  <tbody>\n",
       "    <tr>\n",
       "      <th>9</th>\n",
       "      <td>890240255349198849</td>\n",
       "      <td>0</td>\n",
       "      <td>0</td>\n",
       "      <td>2017-07-26 15:59:51</td>\n",
       "      <td>Twitter for iPhone</td>\n",
       "      <td>This is Cassie. She is a college pup. Studying...</td>\n",
       "      <td>https://twitter.com/dog_rates/status/890240255...</td>\n",
       "      <td>14.0</td>\n",
       "      <td>10.0</td>\n",
       "      <td>Cassie</td>\n",
       "      <td>14.0</td>\n",
       "      <td>doggo</td>\n",
       "    </tr>\n",
       "    <tr>\n",
       "      <th>12</th>\n",
       "      <td>889665388333682689</td>\n",
       "      <td>0</td>\n",
       "      <td>0</td>\n",
       "      <td>2017-07-25 01:55:32</td>\n",
       "      <td>Twitter for iPhone</td>\n",
       "      <td>Here's a puppo that seems to be on the fence a...</td>\n",
       "      <td>https://twitter.com/dog_rates/status/889665388...</td>\n",
       "      <td>13.0</td>\n",
       "      <td>10.0</td>\n",
       "      <td>None</td>\n",
       "      <td>13.0</td>\n",
       "      <td>puppo</td>\n",
       "    </tr>\n",
       "    <tr>\n",
       "      <th>14</th>\n",
       "      <td>889531135344209921</td>\n",
       "      <td>0</td>\n",
       "      <td>0</td>\n",
       "      <td>2017-07-24 17:02:04</td>\n",
       "      <td>Twitter for iPhone</td>\n",
       "      <td>This is Stuart. He's sporting his favorite fan...</td>\n",
       "      <td>https://twitter.com/dog_rates/status/889531135...</td>\n",
       "      <td>13.0</td>\n",
       "      <td>10.0</td>\n",
       "      <td>Stuart</td>\n",
       "      <td>13.0</td>\n",
       "      <td>puppo</td>\n",
       "    </tr>\n",
       "    <tr>\n",
       "      <th>28</th>\n",
       "      <td>886366144734445568</td>\n",
       "      <td>0</td>\n",
       "      <td>0</td>\n",
       "      <td>2017-07-15 23:25:31</td>\n",
       "      <td>Twitter for iPhone</td>\n",
       "      <td>This is Roscoe. Another pupper fallen victim t...</td>\n",
       "      <td>https://twitter.com/dog_rates/status/886366144...</td>\n",
       "      <td>12.0</td>\n",
       "      <td>10.0</td>\n",
       "      <td>Roscoe</td>\n",
       "      <td>12.0</td>\n",
       "      <td>pupper</td>\n",
       "    </tr>\n",
       "    <tr>\n",
       "      <th>37</th>\n",
       "      <td>884162670584377345</td>\n",
       "      <td>0</td>\n",
       "      <td>0</td>\n",
       "      <td>2017-07-09 21:29:42</td>\n",
       "      <td>Twitter for iPhone</td>\n",
       "      <td>Meet Yogi. He doesn't have any important dog m...</td>\n",
       "      <td>https://twitter.com/dog_rates/status/884162670...</td>\n",
       "      <td>12.0</td>\n",
       "      <td>10.0</td>\n",
       "      <td>Yogi</td>\n",
       "      <td>12.0</td>\n",
       "      <td>doggo</td>\n",
       "    </tr>\n",
       "  </tbody>\n",
       "</table>\n",
       "</div>"
      ],
      "text/plain": [
       "              tweet_id  in_reply_to_status_id  in_reply_to_user_id  \\\n",
       "9   890240255349198849                      0                    0   \n",
       "12  889665388333682689                      0                    0   \n",
       "14  889531135344209921                      0                    0   \n",
       "28  886366144734445568                      0                    0   \n",
       "37  884162670584377345                      0                    0   \n",
       "\n",
       "             timestamp              source  \\\n",
       "9  2017-07-26 15:59:51  Twitter for iPhone   \n",
       "12 2017-07-25 01:55:32  Twitter for iPhone   \n",
       "14 2017-07-24 17:02:04  Twitter for iPhone   \n",
       "28 2017-07-15 23:25:31  Twitter for iPhone   \n",
       "37 2017-07-09 21:29:42  Twitter for iPhone   \n",
       "\n",
       "                                                 text  \\\n",
       "9   This is Cassie. She is a college pup. Studying...   \n",
       "12  Here's a puppo that seems to be on the fence a...   \n",
       "14  This is Stuart. He's sporting his favorite fan...   \n",
       "28  This is Roscoe. Another pupper fallen victim t...   \n",
       "37  Meet Yogi. He doesn't have any important dog m...   \n",
       "\n",
       "                                        expanded_urls  rating_numerator  \\\n",
       "9   https://twitter.com/dog_rates/status/890240255...              14.0   \n",
       "12  https://twitter.com/dog_rates/status/889665388...              13.0   \n",
       "14  https://twitter.com/dog_rates/status/889531135...              13.0   \n",
       "28  https://twitter.com/dog_rates/status/886366144...              12.0   \n",
       "37  https://twitter.com/dog_rates/status/884162670...              12.0   \n",
       "\n",
       "    rating_denominator    name  rating   stage  \n",
       "9                 10.0  Cassie    14.0   doggo  \n",
       "12                10.0    None    13.0   puppo  \n",
       "14                10.0  Stuart    13.0   puppo  \n",
       "28                10.0  Roscoe    12.0  pupper  \n",
       "37                10.0    Yogi    12.0   doggo  "
      ]
     },
     "execution_count": 631,
     "metadata": {},
     "output_type": "execute_result"
    }
   ],
   "source": [
    "archive_clean.info()\n",
    "archive_clean[archive_clean['stage'] != ''].head()"
   ]
  },
  {
   "cell_type": "code",
   "execution_count": 632,
   "metadata": {},
   "outputs": [
    {
     "data": {
      "text/plain": [
       "                1685\n",
       "pupper           203\n",
       "doggo             63\n",
       "puppo             22\n",
       "doggopupper        9\n",
       "floofer            7\n",
       "doggopuppo         1\n",
       "doggofloofer       1\n",
       "Name: stage, dtype: int64"
      ]
     },
     "execution_count": 632,
     "metadata": {},
     "output_type": "execute_result"
    }
   ],
   "source": [
    "archive_clean.stage.value_counts()"
   ]
  },
  {
   "cell_type": "markdown",
   "metadata": {},
   "source": [
    "##### Define"
   ]
  },
  {
   "cell_type": "markdown",
   "metadata": {},
   "source": [
    "There is one record that has both *doggo* and *floofer*, another record that has both *doggo* and *puppo*, and 9 records that have both *doggo* and *pupper*. These record will be combined using comma as separator."
   ]
  },
  {
   "cell_type": "markdown",
   "metadata": {},
   "source": [
    "#### Code"
   ]
  },
  {
   "cell_type": "code",
   "execution_count": 633,
   "metadata": {},
   "outputs": [],
   "source": [
    "archive_clean['stage'] = archive_clean['stage'].cat.add_categories(['doggo,pupper', 'doggo,puppo', 'doggo,floofer'])\n",
    "\n",
    "# Handle multiple stages\n",
    "archive_clean.loc[archive_clean.stage == 'doggopupper', 'stage'] = 'doggo,pupper'\n",
    "archive_clean.loc[archive_clean.stage == 'doggopuppo', 'stage'] = 'doggo,puppo'\n",
    "archive_clean.loc[archive_clean.stage == 'doggofloofer', 'stage'] = 'doggo,floofer'\n",
    "\n",
    "# Handle missing values\n",
    "archive_clean.loc[archive_clean.stage == '', 'stage'] = np.nan\n",
    "\n",
    "archive_clean['stage'] = archive_clean['stage'].cat.remove_categories(['doggopupper', 'doggopuppo', 'doggofloofer', ''])"
   ]
  },
  {
   "cell_type": "code",
   "execution_count": 634,
   "metadata": {},
   "outputs": [
    {
     "data": {
      "text/plain": [
       "pupper           203\n",
       "doggo             63\n",
       "puppo             22\n",
       "doggo,pupper       9\n",
       "floofer            7\n",
       "doggo,floofer      1\n",
       "doggo,puppo        1\n",
       "Name: stage, dtype: int64"
      ]
     },
     "execution_count": 634,
     "metadata": {},
     "output_type": "execute_result"
    }
   ],
   "source": [
    "archive_clean.stage.value_counts()"
   ]
  },
  {
   "cell_type": "markdown",
   "metadata": {},
   "source": [
    "##### The following 2 tidiness issues will be cleaned together in a single iteration\n",
    "- #### *\"breed\"* column should be added in `twitter_archive` table, its values based on *p1_conf* and *p1_dog* columns of `image_prediction` table\n",
    "- #### *retweet_count* and *favorite_count* columns from `status_df` table should be joined with `twitter_archive` table"
   ]
  },
  {
   "cell_type": "markdown",
   "metadata": {},
   "source": [
    "##### Define\n",
    "Create *breed*, *retweet_count* and *favorite_count* columns in `twitter_archive` table. For each tweet_id, use the `image_prediction` table to check if *p1_conf* is greater than 0.95 (*i.e. 95% confidence interval*) and *p1_dog* is True. If it is, set the value of *p1* column in *breed* column. \n",
    "\n",
    "Also, fetch the *retweet_count* and *favorite_count* columns of `status_df` table and assign those values to `twitter_archive` table"
   ]
  },
  {
   "cell_type": "markdown",
   "metadata": {},
   "source": [
    "##### Code"
   ]
  },
  {
   "cell_type": "code",
   "execution_count": 635,
   "metadata": {},
   "outputs": [],
   "source": [
    "# create breed, retweet_count and favorite_count columns\n",
    "archive_clean['breed'] = 'None'\n",
    "archive_clean['retweet_count'] = 0\n",
    "archive_clean['favorite_count'] = 0"
   ]
  },
  {
   "cell_type": "code",
   "execution_count": 636,
   "metadata": {},
   "outputs": [
    {
     "name": "stderr",
     "output_type": "stream",
     "text": [
      "/opt/conda/lib/python3.6/site-packages/ipykernel_launcher.py:4: FutureWarning: set_value is deprecated and will be removed in a future release. Please use .at[] or .iat[] accessors instead\n",
      "  after removing the cwd from sys.path.\n",
      "/opt/conda/lib/python3.6/site-packages/ipykernel_launcher.py:5: FutureWarning: set_value is deprecated and will be removed in a future release. Please use .at[] or .iat[] accessors instead\n",
      "  \"\"\"\n",
      "/opt/conda/lib/python3.6/site-packages/ipykernel_launcher.py:12: FutureWarning: set_value is deprecated and will be removed in a future release. Please use .at[] or .iat[] accessors instead\n",
      "  if sys.path[0] == '':\n"
     ]
    }
   ],
   "source": [
    "# iterate through all the rows of archive_clean\n",
    "for i, row in archive_clean.iterrows():\n",
    "    # fetch the retweet_count and favorite_count columns of status_df table and assign those values\n",
    "    archive_clean.set_value(i, 'retweet_count', status_df[status_df.tweet_id == row.tweet_id].retweet_count.iloc[0])\n",
    "    archive_clean.set_value(i, 'favorite_count', status_df[status_df.tweet_id == row.tweet_id].favorite_count.iloc[0])    \n",
    "    \n",
    "    img_prediction = image_prediction[image_prediction.tweet_id == row.tweet_id]\n",
    "    p1_conf = img_prediction.p1_conf.iloc[0]\n",
    "    p1_dog = img_prediction.p1_dog.iloc[0]\n",
    "    #  check if p1_conf is greater than 0.95 (i.e. 95% confidence interval) and p1_dog is True\n",
    "    if p1_conf >= 0.95 and p1_dog:\n",
    "        archive_clean.set_value(i, 'breed', img_prediction.p1.iloc[0])"
   ]
  },
  {
   "cell_type": "markdown",
   "metadata": {},
   "source": [
    "##### Test"
   ]
  },
  {
   "cell_type": "code",
   "execution_count": 637,
   "metadata": {},
   "outputs": [
    {
     "data": {
      "text/plain": [
       "None                           1807\n",
       "pug                              20\n",
       "Pembroke                         19\n",
       "Samoyed                          18\n",
       "golden_retriever                 16\n",
       "Pomeranian                       13\n",
       "Chihuahua                         9\n",
       "French_bulldog                    8\n",
       "Labrador_retriever                8\n",
       "chow                              7\n",
       "German_shepherd                   4\n",
       "Shetland_sheepdog                 4\n",
       "Bernese_mountain_dog              4\n",
       "Pekinese                          3\n",
       "Old_English_sheepdog              3\n",
       "Blenheim_spaniel                  3\n",
       "beagle                            3\n",
       "keeshond                          2\n",
       "malamute                          2\n",
       "English_springer                  2\n",
       "dalmatian                         2\n",
       "vizsla                            2\n",
       "Saint_Bernard                     2\n",
       "Rottweiler                        2\n",
       "Shih-Tzu                          2\n",
       "komondor                          2\n",
       "cocker_spaniel                    2\n",
       "Boston_bull                       2\n",
       "bull_mastiff                      2\n",
       "basset                            2\n",
       "Brittany_spaniel                  1\n",
       "miniature_pinscher                1\n",
       "toy_poodle                        1\n",
       "Siberian_husky                    1\n",
       "collie                            1\n",
       "Tibetan_mastiff                   1\n",
       "Norwegian_elkhound                1\n",
       "German_short-haired_pointer       1\n",
       "Weimaraner                        1\n",
       "Great_Dane                        1\n",
       "Great_Pyrenees                    1\n",
       "schipperke                        1\n",
       "boxer                             1\n",
       "briard                            1\n",
       "Maltese_dog                       1\n",
       "Cardigan                          1\n",
       "Name: breed, dtype: int64"
      ]
     },
     "execution_count": 637,
     "metadata": {},
     "output_type": "execute_result"
    }
   ],
   "source": [
    "archive_clean.breed.value_counts()"
   ]
  },
  {
   "cell_type": "code",
   "execution_count": 638,
   "metadata": {},
   "outputs": [
    {
     "data": {
      "text/html": [
       "<div>\n",
       "<style scoped>\n",
       "    .dataframe tbody tr th:only-of-type {\n",
       "        vertical-align: middle;\n",
       "    }\n",
       "\n",
       "    .dataframe tbody tr th {\n",
       "        vertical-align: top;\n",
       "    }\n",
       "\n",
       "    .dataframe thead th {\n",
       "        text-align: right;\n",
       "    }\n",
       "</style>\n",
       "<table border=\"1\" class=\"dataframe\">\n",
       "  <thead>\n",
       "    <tr style=\"text-align: right;\">\n",
       "      <th></th>\n",
       "      <th>tweet_id</th>\n",
       "      <th>retweet_count</th>\n",
       "      <th>favorite_count</th>\n",
       "    </tr>\n",
       "  </thead>\n",
       "  <tbody>\n",
       "    <tr>\n",
       "      <th>707</th>\n",
       "      <td>751132876104687617</td>\n",
       "      <td>1384</td>\n",
       "      <td>5294</td>\n",
       "    </tr>\n",
       "    <tr>\n",
       "      <th>466</th>\n",
       "      <td>793180763617361921</td>\n",
       "      <td>2163</td>\n",
       "      <td>7357</td>\n",
       "    </tr>\n",
       "    <tr>\n",
       "      <th>1238</th>\n",
       "      <td>688385280030670848</td>\n",
       "      <td>4699</td>\n",
       "      <td>9639</td>\n",
       "    </tr>\n",
       "    <tr>\n",
       "      <th>1654</th>\n",
       "      <td>672239279297454080</td>\n",
       "      <td>328</td>\n",
       "      <td>897</td>\n",
       "    </tr>\n",
       "    <tr>\n",
       "      <th>1926</th>\n",
       "      <td>667171260800061440</td>\n",
       "      <td>88</td>\n",
       "      <td>220</td>\n",
       "    </tr>\n",
       "  </tbody>\n",
       "</table>\n",
       "</div>"
      ],
      "text/plain": [
       "                tweet_id  retweet_count  favorite_count\n",
       "707   751132876104687617           1384            5294\n",
       "466   793180763617361921           2163            7357\n",
       "1238  688385280030670848           4699            9639\n",
       "1654  672239279297454080            328             897\n",
       "1926  667171260800061440             88             220"
      ]
     },
     "execution_count": 638,
     "metadata": {},
     "output_type": "execute_result"
    }
   ],
   "source": [
    "archive_clean[['tweet_id', 'retweet_count', 'favorite_count']].sample(5)"
   ]
  },
  {
   "cell_type": "markdown",
   "metadata": {},
   "source": [
    "---"
   ]
  },
  {
   "cell_type": "markdown",
   "metadata": {},
   "source": [
    "## Storing Data"
   ]
  },
  {
   "cell_type": "code",
   "execution_count": 639,
   "metadata": {},
   "outputs": [],
   "source": [
    "archive_clean.to_csv('twitter_archive_master.csv', encoding='utf-8', index=False)"
   ]
  },
  {
   "cell_type": "markdown",
   "metadata": {},
   "source": [
    "## Analyzing Data"
   ]
  },
  {
   "cell_type": "code",
   "execution_count": 640,
   "metadata": {},
   "outputs": [],
   "source": [
    "# For analysis, create a copy of the cleaned twitter archive data\n",
    "df = archive_clean.copy()"
   ]
  },
  {
   "cell_type": "code",
   "execution_count": 641,
   "metadata": {
    "scrolled": true
   },
   "outputs": [
    {
     "name": "stdout",
     "output_type": "stream",
     "text": [
      "<class 'pandas.core.frame.DataFrame'>\n",
      "Int64Index: 1991 entries, 0 to 1990\n",
      "Data columns (total 15 columns):\n",
      "tweet_id                 1991 non-null int64\n",
      "in_reply_to_status_id    1991 non-null int64\n",
      "in_reply_to_user_id      1991 non-null int64\n",
      "timestamp                1991 non-null datetime64[ns]\n",
      "source                   1991 non-null category\n",
      "text                     1991 non-null object\n",
      "expanded_urls            1991 non-null object\n",
      "rating_numerator         1991 non-null float64\n",
      "rating_denominator       1991 non-null float64\n",
      "name                     1991 non-null object\n",
      "rating                   1991 non-null float64\n",
      "stage                    306 non-null category\n",
      "breed                    1991 non-null object\n",
      "retweet_count            1991 non-null int64\n",
      "favorite_count           1991 non-null int64\n",
      "dtypes: category(2), datetime64[ns](1), float64(3), int64(5), object(4)\n",
      "memory usage: 222.1+ KB\n"
     ]
    }
   ],
   "source": [
    "df.info()"
   ]
  },
  {
   "cell_type": "markdown",
   "metadata": {},
   "source": [
    "### Analyzing number of tweets posted by WeRateDogs' over time"
   ]
  },
  {
   "cell_type": "code",
   "execution_count": 642,
   "metadata": {},
   "outputs": [
    {
     "data": {
      "text/plain": [
       "2015-11    296\n",
       "2015-12    366\n",
       "2016-01    169\n",
       "2016-02    111\n",
       "2016-03    120\n",
       "2016-04     54\n",
       "2016-05     57\n",
       "2016-06     81\n",
       "2016-07     87\n",
       "2016-08     59\n",
       "2016-09     63\n",
       "2016-10     65\n",
       "2016-11     53\n",
       "2016-12     54\n",
       "2017-01     66\n",
       "2017-02     64\n",
       "2017-03     48\n",
       "2017-04     41\n",
       "2017-05     43\n",
       "2017-06     43\n",
       "2017-07     49\n",
       "2017-08      2\n",
       "Name: timestamp, dtype: int64"
      ]
     },
     "execution_count": 642,
     "metadata": {},
     "output_type": "execute_result"
    }
   ],
   "source": [
    "df['timestamp'].apply(lambda x: x.strftime('%Y-%m')).value_counts().sort_index()"
   ]
  },
  {
   "cell_type": "markdown",
   "metadata": {},
   "source": [
    "#### Most used Twitter source"
   ]
  },
  {
   "cell_type": "code",
   "execution_count": 643,
   "metadata": {},
   "outputs": [
    {
     "data": {
      "text/plain": [
       "Twitter for iPhone    1953\n",
       "Twitter Web Client      28\n",
       "TweetDeck               10\n",
       "Name: source, dtype: int64"
      ]
     },
     "execution_count": 643,
     "metadata": {},
     "output_type": "execute_result"
    }
   ],
   "source": [
    "df['source'].value_counts()"
   ]
  },
  {
   "cell_type": "markdown",
   "metadata": {},
   "source": [
    "<font color=blue>WeRateDogs has posted 98% of the tweets from iPhone.</font>"
   ]
  },
  {
   "cell_type": "markdown",
   "metadata": {},
   "source": [
    "### Analysis of rating of dogs"
   ]
  },
  {
   "cell_type": "markdown",
   "metadata": {},
   "source": [
    "Out of a total of 1994 dogs rated by WeRateDogs, a total of 1164 dogs were rated above 10, which is almost 60%. However, only 2% (i.e. 37) were rated the highest (excluding the ratings of 420 and 1776 which are outliers)."
   ]
  },
  {
   "cell_type": "code",
   "execution_count": 644,
   "metadata": {},
   "outputs": [
    {
     "data": {
      "text/plain": [
       "0.0         2\n",
       "1.0         4\n",
       "2.0        10\n",
       "3.0        19\n",
       "4.0        15\n",
       "5.0        33\n",
       "6.0        32\n",
       "7.0        51\n",
       "8.0        95\n",
       "9.0       152\n",
       "10.0      421\n",
       "11.0      402\n",
       "12.0      453\n",
       "13.0      260\n",
       "14.0       36\n",
       "24.0        1\n",
       "26.0        1\n",
       "27.0        1\n",
       "75.0        1\n",
       "420.0       1\n",
       "1776.0      1\n",
       "Name: rating_numerator, dtype: int64"
      ]
     },
     "execution_count": 644,
     "metadata": {},
     "output_type": "execute_result"
    }
   ],
   "source": [
    "df['rating_numerator'].value_counts().sort_index()"
   ]
  },
  {
   "cell_type": "code",
   "execution_count": 645,
   "metadata": {},
   "outputs": [
    {
     "data": {
      "text/plain": [
       "1157"
      ]
     },
     "execution_count": 645,
     "metadata": {},
     "output_type": "execute_result"
    }
   ],
   "source": [
    "df['rating_numerator'][df['rating_numerator'] > 10].value_counts().sum()"
   ]
  },
  {
   "cell_type": "markdown",
   "metadata": {},
   "source": [
    "### Analysis of dog breed (*as identified by image prediction*)"
   ]
  },
  {
   "cell_type": "markdown",
   "metadata": {},
   "source": [
    "The breed of 1808 dogs out of 1994 (i.e. 90%) couldn't be predicted. So, at 95% confidence interval, the image prediction algorithm was able to predict the breed for 10% of the dog population of this data set."
   ]
  },
  {
   "cell_type": "code",
   "execution_count": 646,
   "metadata": {},
   "outputs": [
    {
     "data": {
      "text/plain": [
       "None    1807\n",
       "Name: breed, dtype: int64"
      ]
     },
     "execution_count": 646,
     "metadata": {},
     "output_type": "execute_result"
    }
   ],
   "source": [
    "df['breed'][df['breed'] == 'None'].value_counts()"
   ]
  },
  {
   "cell_type": "markdown",
   "metadata": {},
   "source": [
    "#### Most common dog breed/type"
   ]
  },
  {
   "cell_type": "markdown",
   "metadata": {},
   "source": [
    "Out of all the dogs that can be predicted, **pub, Pembroke, Samoyed, golden_retriever, Pomeranian** are the most frequently appeared."
   ]
  },
  {
   "cell_type": "code",
   "execution_count": 647,
   "metadata": {},
   "outputs": [
    {
     "data": {
      "text/plain": [
       "None                           1807\n",
       "pug                              20\n",
       "Pembroke                         19\n",
       "Samoyed                          18\n",
       "golden_retriever                 16\n",
       "Pomeranian                       13\n",
       "Chihuahua                         9\n",
       "French_bulldog                    8\n",
       "Labrador_retriever                8\n",
       "chow                              7\n",
       "German_shepherd                   4\n",
       "Shetland_sheepdog                 4\n",
       "Bernese_mountain_dog              4\n",
       "Pekinese                          3\n",
       "Old_English_sheepdog              3\n",
       "Blenheim_spaniel                  3\n",
       "beagle                            3\n",
       "keeshond                          2\n",
       "malamute                          2\n",
       "English_springer                  2\n",
       "dalmatian                         2\n",
       "vizsla                            2\n",
       "Saint_Bernard                     2\n",
       "Rottweiler                        2\n",
       "Shih-Tzu                          2\n",
       "komondor                          2\n",
       "cocker_spaniel                    2\n",
       "Boston_bull                       2\n",
       "bull_mastiff                      2\n",
       "basset                            2\n",
       "Brittany_spaniel                  1\n",
       "miniature_pinscher                1\n",
       "toy_poodle                        1\n",
       "Siberian_husky                    1\n",
       "collie                            1\n",
       "Tibetan_mastiff                   1\n",
       "Norwegian_elkhound                1\n",
       "German_short-haired_pointer       1\n",
       "Weimaraner                        1\n",
       "Great_Dane                        1\n",
       "Great_Pyrenees                    1\n",
       "schipperke                        1\n",
       "boxer                             1\n",
       "briard                            1\n",
       "Maltese_dog                       1\n",
       "Cardigan                          1\n",
       "Name: breed, dtype: int64"
      ]
     },
     "execution_count": 647,
     "metadata": {},
     "output_type": "execute_result"
    }
   ],
   "source": [
    "df['breed'].value_counts()"
   ]
  },
  {
   "cell_type": "code",
   "execution_count": 648,
   "metadata": {},
   "outputs": [
    {
     "data": {
      "image/png": "[encoded data removed]",
      "text/plain": [
       "<matplotlib.figure.Figure at 0x7f81b11a9eb8>"
      ]
     },
     "metadata": {
      "needs_background": "light"
     },
     "output_type": "display_data"
    }
   ],
   "source": [
    "df_dog_type = df.groupby('breed').filter(lambda x: len(x) < 100 and len(x) > 4)\n",
    "df_dog_type['breed'].value_counts().plot(kind = 'barh')\n",
    "plt.title('Histogram of the Most Rated Dog Type')\n",
    "plt.xlabel('Count')\n",
    "plt.ylabel('Type of dog')\n",
    "\n",
    "fig = plt.gcf() \n",
    "fig.savefig('output.png',bbox_inches='tight');"
   ]
  },
  {
   "cell_type": "markdown",
   "metadata": {},
   "source": [
    "Out of all the most frequent dog breeds, Pembroke is receiving the highest rating."
   ]
  },
  {
   "cell_type": "code",
   "execution_count": 649,
   "metadata": {},
   "outputs": [],
   "source": [
    "df_dog_type_mean = df_dog_type.groupby('breed').mean()"
   ]
  },
  {
   "cell_type": "code",
   "execution_count": 650,
   "metadata": {},
   "outputs": [
    {
     "data": {
      "text/html": [
       "<div>\n",
       "<style scoped>\n",
       "    .dataframe tbody tr th:only-of-type {\n",
       "        vertical-align: middle;\n",
       "    }\n",
       "\n",
       "    .dataframe tbody tr th {\n",
       "        vertical-align: top;\n",
       "    }\n",
       "\n",
       "    .dataframe thead th {\n",
       "        text-align: right;\n",
       "    }\n",
       "</style>\n",
       "<table border=\"1\" class=\"dataframe\">\n",
       "  <thead>\n",
       "    <tr style=\"text-align: right;\">\n",
       "      <th></th>\n",
       "      <th>tweet_id</th>\n",
       "      <th>in_reply_to_status_id</th>\n",
       "      <th>in_reply_to_user_id</th>\n",
       "      <th>timestamp</th>\n",
       "      <th>source</th>\n",
       "      <th>text</th>\n",
       "      <th>expanded_urls</th>\n",
       "      <th>rating_numerator</th>\n",
       "      <th>rating_denominator</th>\n",
       "      <th>name</th>\n",
       "      <th>rating</th>\n",
       "      <th>stage</th>\n",
       "      <th>breed</th>\n",
       "      <th>retweet_count</th>\n",
       "      <th>favorite_count</th>\n",
       "    </tr>\n",
       "  </thead>\n",
       "  <tbody>\n",
       "    <tr>\n",
       "      <th>10</th>\n",
       "      <td>890006608113172480</td>\n",
       "      <td>0</td>\n",
       "      <td>0</td>\n",
       "      <td>2017-07-26 00:31:25</td>\n",
       "      <td>Twitter for iPhone</td>\n",
       "      <td>This is Koda. He is a South Australian decksha...</td>\n",
       "      <td>https://twitter.com/dog_rates/status/890006608...</td>\n",
       "      <td>13.0</td>\n",
       "      <td>10.0</td>\n",
       "      <td>Koda</td>\n",
       "      <td>13.0</td>\n",
       "      <td>NaN</td>\n",
       "      <td>Samoyed</td>\n",
       "      <td>7088</td>\n",
       "      <td>29857</td>\n",
       "    </tr>\n",
       "    <tr>\n",
       "      <th>12</th>\n",
       "      <td>889665388333682689</td>\n",
       "      <td>0</td>\n",
       "      <td>0</td>\n",
       "      <td>2017-07-25 01:55:32</td>\n",
       "      <td>Twitter for iPhone</td>\n",
       "      <td>Here's a puppo that seems to be on the fence a...</td>\n",
       "      <td>https://twitter.com/dog_rates/status/889665388...</td>\n",
       "      <td>13.0</td>\n",
       "      <td>10.0</td>\n",
       "      <td>None</td>\n",
       "      <td>13.0</td>\n",
       "      <td>puppo</td>\n",
       "      <td>Pembroke</td>\n",
       "      <td>9705</td>\n",
       "      <td>46810</td>\n",
       "    </tr>\n",
       "    <tr>\n",
       "      <th>13</th>\n",
       "      <td>889638837579907072</td>\n",
       "      <td>0</td>\n",
       "      <td>0</td>\n",
       "      <td>2017-07-25 00:10:02</td>\n",
       "      <td>Twitter for iPhone</td>\n",
       "      <td>This is Ted. He does his best. Sometimes that'...</td>\n",
       "      <td>https://twitter.com/dog_rates/status/889638837...</td>\n",
       "      <td>12.0</td>\n",
       "      <td>10.0</td>\n",
       "      <td>Ted</td>\n",
       "      <td>12.0</td>\n",
       "      <td>NaN</td>\n",
       "      <td>French_bulldog</td>\n",
       "      <td>4384</td>\n",
       "      <td>26387</td>\n",
       "    </tr>\n",
       "    <tr>\n",
       "      <th>14</th>\n",
       "      <td>889531135344209921</td>\n",
       "      <td>0</td>\n",
       "      <td>0</td>\n",
       "      <td>2017-07-24 17:02:04</td>\n",
       "      <td>Twitter for iPhone</td>\n",
       "      <td>This is Stuart. He's sporting his favorite fan...</td>\n",
       "      <td>https://twitter.com/dog_rates/status/889531135...</td>\n",
       "      <td>13.0</td>\n",
       "      <td>10.0</td>\n",
       "      <td>Stuart</td>\n",
       "      <td>13.0</td>\n",
       "      <td>puppo</td>\n",
       "      <td>golden_retriever</td>\n",
       "      <td>2177</td>\n",
       "      <td>14716</td>\n",
       "    </tr>\n",
       "    <tr>\n",
       "      <th>19</th>\n",
       "      <td>888078434458587136</td>\n",
       "      <td>0</td>\n",
       "      <td>0</td>\n",
       "      <td>2017-07-20 16:49:33</td>\n",
       "      <td>Twitter for iPhone</td>\n",
       "      <td>This is Gerald. He was just told he didn't get...</td>\n",
       "      <td>https://twitter.com/dog_rates/status/888078434...</td>\n",
       "      <td>12.0</td>\n",
       "      <td>10.0</td>\n",
       "      <td>Gerald</td>\n",
       "      <td>12.0</td>\n",
       "      <td>NaN</td>\n",
       "      <td>French_bulldog</td>\n",
       "      <td>3371</td>\n",
       "      <td>21176</td>\n",
       "    </tr>\n",
       "  </tbody>\n",
       "</table>\n",
       "</div>"
      ],
      "text/plain": [
       "              tweet_id  in_reply_to_status_id  in_reply_to_user_id  \\\n",
       "10  890006608113172480                      0                    0   \n",
       "12  889665388333682689                      0                    0   \n",
       "13  889638837579907072                      0                    0   \n",
       "14  889531135344209921                      0                    0   \n",
       "19  888078434458587136                      0                    0   \n",
       "\n",
       "             timestamp              source  \\\n",
       "10 2017-07-26 00:31:25  Twitter for iPhone   \n",
       "12 2017-07-25 01:55:32  Twitter for iPhone   \n",
       "13 2017-07-25 00:10:02  Twitter for iPhone   \n",
       "14 2017-07-24 17:02:04  Twitter for iPhone   \n",
       "19 2017-07-20 16:49:33  Twitter for iPhone   \n",
       "\n",
       "                                                 text  \\\n",
       "10  This is Koda. He is a South Australian decksha...   \n",
       "12  Here's a puppo that seems to be on the fence a...   \n",
       "13  This is Ted. He does his best. Sometimes that'...   \n",
       "14  This is Stuart. He's sporting his favorite fan...   \n",
       "19  This is Gerald. He was just told he didn't get...   \n",
       "\n",
       "                                        expanded_urls  rating_numerator  \\\n",
       "10  https://twitter.com/dog_rates/status/890006608...              13.0   \n",
       "12  https://twitter.com/dog_rates/status/889665388...              13.0   \n",
       "13  https://twitter.com/dog_rates/status/889638837...              12.0   \n",
       "14  https://twitter.com/dog_rates/status/889531135...              13.0   \n",
       "19  https://twitter.com/dog_rates/status/888078434...              12.0   \n",
       "\n",
       "    rating_denominator    name  rating  stage             breed  \\\n",
       "10                10.0    Koda    13.0    NaN           Samoyed   \n",
       "12                10.0    None    13.0  puppo          Pembroke   \n",
       "13                10.0     Ted    12.0    NaN    French_bulldog   \n",
       "14                10.0  Stuart    13.0  puppo  golden_retriever   \n",
       "19                10.0  Gerald    12.0    NaN    French_bulldog   \n",
       "\n",
       "    retweet_count  favorite_count  \n",
       "10           7088           29857  \n",
       "12           9705           46810  \n",
       "13           4384           26387  \n",
       "14           2177           14716  \n",
       "19           3371           21176  "
      ]
     },
     "execution_count": 650,
     "metadata": {},
     "output_type": "execute_result"
    }
   ],
   "source": [
    "df_dog_type.head()"
   ]
  },
  {
   "cell_type": "code",
   "execution_count": 651,
   "metadata": {},
   "outputs": [],
   "source": [
    "df_dog_type_sorted = df_dog_type_mean['rating'].sort_values()"
   ]
  },
  {
   "cell_type": "code",
   "execution_count": 652,
   "metadata": {},
   "outputs": [
    {
     "data": {
      "text/plain": [
       "breed\n",
       "Chihuahua              9.333333\n",
       "French_bulldog        10.625000\n",
       "pug                   10.750000\n",
       "Pomeranian            11.153846\n",
       "Labrador_retriever    11.250000\n",
       "golden_retriever      11.562500\n",
       "Samoyed               11.944444\n",
       "chow                  12.000000\n",
       "Pembroke              12.368421\n",
       "Name: rating, dtype: float64"
      ]
     },
     "execution_count": 652,
     "metadata": {},
     "output_type": "execute_result"
    }
   ],
   "source": [
    "df_dog_type_sorted"
   ]
  },
  {
   "cell_type": "markdown",
   "metadata": {},
   "source": [
    "### Analysis of retweet and favorite counts"
   ]
  },
  {
   "cell_type": "code",
   "execution_count": 653,
   "metadata": {},
   "outputs": [
    {
     "name": "stdout",
     "output_type": "stream",
     "text": [
      "Mean Retweet Count\t2618.0\n",
      "Mean Favorite Count\t8634.0\n"
     ]
    }
   ],
   "source": [
    "print('%s\\t%s' % ('Mean Retweet Count', round(df.retweet_count.mean())))\n",
    "print('%s\\t%s' % ('Mean Favorite Count', round(df.favorite_count.mean())))"
   ]
  },
  {
   "cell_type": "markdown",
   "metadata": {},
   "source": [
    "#### When the dog is rated greater than 10"
   ]
  },
  {
   "cell_type": "code",
   "execution_count": 654,
   "metadata": {},
   "outputs": [
    {
     "name": "stdout",
     "output_type": "stream",
     "text": [
      "Mean Retweet Count\t3659.0\n",
      "Mean Favorite Count\t12478.0\n"
     ]
    }
   ],
   "source": [
    "print('%s\\t%s' % ('Mean Retweet Count', \n",
    "                  round(df.retweet_count[df.rating_numerator > 10].mean())))\n",
    "print('%s\\t%s' % ('Mean Favorite Count', \n",
    "                  round(df.favorite_count[df.rating_numerator > 10].mean())))"
   ]
  },
  {
   "cell_type": "markdown",
   "metadata": {},
   "source": [
    "##### When the dog has a name"
   ]
  },
  {
   "cell_type": "code",
   "execution_count": 655,
   "metadata": {},
   "outputs": [
    {
     "name": "stdout",
     "output_type": "stream",
     "text": [
      "Mean Retweet Count\t2578.0\n",
      "Mean Favorite Count\t9022.0\n"
     ]
    }
   ],
   "source": [
    "print('%s\\t%s' % ('Mean Retweet Count', \n",
    "                  round(df.retweet_count[df.name != 'None'].mean())))\n",
    "print('%s\\t%s' % ('Mean Favorite Count', \n",
    "                  round(df.favorite_count[df.name != 'None'].mean())))"
   ]
  },
  {
   "cell_type": "markdown",
   "metadata": {},
   "source": [
    "#### Categorized on dog-stage"
   ]
  },
  {
   "cell_type": "code",
   "execution_count": 656,
   "metadata": {},
   "outputs": [
    {
     "name": "stdout",
     "output_type": "stream",
     "text": [
      "Doggo\n",
      "Mean Retweet Count\t6986.0\n",
      "Mean Favorite Count\t19885.0\n",
      "Floofer\n",
      "Mean Retweet Count\t4631.0\n",
      "Mean Favorite Count\t12546.0\n",
      "Pupper\n",
      "Mean Retweet Count\t2222.0\n",
      "Mean Favorite Count\t6935.0\n",
      "Puppo\n",
      "Mean Retweet Count\t6208.0\n",
      "Mean Favorite Count\t21580.0\n"
     ]
    }
   ],
   "source": [
    "print('Doggo')\n",
    "print('%s\\t%s' % ('Mean Retweet Count', \n",
    "                  round(df.retweet_count[df.stage == 'doggo'].mean())))\n",
    "print('%s\\t%s' % ('Mean Favorite Count', \n",
    "                  round(df.favorite_count[df.stage == 'doggo'].mean())))\n",
    "\n",
    "print('Floofer')\n",
    "print('%s\\t%s' % ('Mean Retweet Count', \n",
    "                  round(df.retweet_count[df.stage == 'floofer'].mean())))\n",
    "print('%s\\t%s' % ('Mean Favorite Count', \n",
    "                  round(df.favorite_count[df.stage == 'floofer'].mean())))\n",
    "\n",
    "print('Pupper')\n",
    "print('%s\\t%s' % ('Mean Retweet Count', \n",
    "                  round(df.retweet_count[df.stage == 'pupper'].mean())))\n",
    "print('%s\\t%s' % ('Mean Favorite Count', \n",
    "                  round(df.favorite_count[df.stage == 'pupper'].mean())))\n",
    "\n",
    "print('Puppo')\n",
    "print('%s\\t%s' % ('Mean Retweet Count', \n",
    "                  round(df.retweet_count[df.stage == 'puppo'].mean())))\n",
    "print('%s\\t%s' % ('Mean Favorite Count', \n",
    "                  round(df.favorite_count[df.stage == 'puppo'].mean())))"
   ]
  },
  {
   "cell_type": "code",
   "execution_count": 657,
   "metadata": {},
   "outputs": [
    {
     "data": {
      "text/plain": [
       "None         644\n",
       "Charlie       10\n",
       "Cooper        10\n",
       "Lucy          10\n",
       "Oliver        10\n",
       "Tucker         9\n",
       "Penny          9\n",
       "Winston        8\n",
       "Sadie          8\n",
       "Daisy          7\n",
       "Lola           7\n",
       "Toby           7\n",
       "Bo             6\n",
       "Jax            6\n",
       "Koda           6\n",
       "Stanley        6\n",
       "Bella          6\n",
       "Scout          5\n",
       "Louis          5\n",
       "Milo           5\n",
       "Bailey         5\n",
       "Dave           5\n",
       "Chester        5\n",
       "Buddy          5\n",
       "Leo            5\n",
       "Rusty          5\n",
       "Oscar          5\n",
       "Phil           4\n",
       "Bear           4\n",
       "Duke           4\n",
       "            ... \n",
       "Wishes         1\n",
       "Millie         1\n",
       "Alf            1\n",
       "Alexander      1\n",
       "Wiggles        1\n",
       "Stephanus      1\n",
       "Keet           1\n",
       "Travis         1\n",
       "Danny          1\n",
       "Jeb            1\n",
       "Willem         1\n",
       "Luther         1\n",
       "Terrance       1\n",
       "Mabel          1\n",
       "Blitz          1\n",
       "Crawford       1\n",
       "Rontu          1\n",
       "Tuck           1\n",
       "Fwed           1\n",
       "Dex            1\n",
       "Opie           1\n",
       "Snicku         1\n",
       "Rumpole        1\n",
       "Malikai        1\n",
       "Jarod          1\n",
       "Augie          1\n",
       "Happy          1\n",
       "Angel          1\n",
       "Jeffrie        1\n",
       "Sierra         1\n",
       "Name: name, Length: 913, dtype: int64"
      ]
     },
     "execution_count": 657,
     "metadata": {},
     "output_type": "execute_result"
    }
   ],
   "source": [
    "df.name.value_counts()"
   ]
  },
  {
   "cell_type": "markdown",
   "metadata": {},
   "source": [
    "----"
   ]
  },
  {
   "cell_type": "markdown",
   "metadata": {},
   "source": [
    "## Insight and Visualization"
   ]
  },
  {
   "cell_type": "markdown",
   "metadata": {},
   "source": [
    "### Insight 1 Tweets posted by WeRateDogs decreased over time"
   ]
  },
  {
   "cell_type": "code",
   "execution_count": 658,
   "metadata": {},
   "outputs": [],
   "source": [
    "import matplotlib.pyplot as plt\n",
    "%matplotlib inline\n",
    "plt.rcParams[\"figure.figsize\"] = [12, 9]"
   ]
  },
  {
   "cell_type": "code",
   "execution_count": 708,
   "metadata": {},
   "outputs": [
    {
     "data": {
      "image/png": "[encoded data removed]",
      "text/plain": [
       "<matplotlib.figure.Figure at 0x7f81b13a8978>"
      ]
     },
     "metadata": {
      "needs_background": "light"
     },
     "output_type": "display_data"
    }
   ],
   "source": [
    "data = df.tweet_id.groupby([df[\"timestamp\"].dt.year, df[\"timestamp\"].dt.month]).count()\n",
    "ax = data.plot('line', title='WeRateDogs tweeting trend over time')\n",
    "ax.set_xlabel(\"(Year, Month)\")\n",
    "ax.set_ylabel(\"Number of Tweets\")\n",
    "ax.set_ylim(0, )\n",
    "plt.xticks(range(len(data.index)), data.index.map('{0[0]},{0[1]}'.format), rotation=90)\n",
    "plt.savefig('tweet_trend')"
   ]
  },
  {
   "cell_type": "markdown",
   "metadata": {},
   "source": [
    "### Insight 2 Both retweets and favourites have been growing upwards very fast which indicates that WeRateDogs has been gaining popularity"
   ]
  },
  {
   "cell_type": "code",
   "execution_count": 714,
   "metadata": {},
   "outputs": [
    {
     "data": {
      "image/png": "[encoded data removed]",
      "text/plain": [
       "<matplotlib.figure.Figure at 0x7f81b147f630>"
      ]
     },
     "metadata": {
      "needs_background": "light"
     },
     "output_type": "display_data"
    }
   ],
   "source": [
    "# plt.subplots(1, sharex=True)\n",
    "retweet_count_grouped = df.retweet_count.groupby([df[\"timestamp\"].dt.year, df[\"timestamp\"].dt.month]).mean()\n",
    "retweet_count_grouped.plot('line')\n",
    "df.favorite_count.groupby([df[\"timestamp\"].dt.year, df[\"timestamp\"].dt.month]).mean().plot('line').set_ylim(0, )\n",
    "plt.title('Retweeting and Favoriting trend over time')\n",
    "plt.ylabel('Count')\n",
    "plt.xlabel(('Year, Month'))\n",
    "plt.legend(('Retweets', 'Favorites'))\n",
    "plt.xticks(range(len(retweet_count_grouped.index)), retweet_count_grouped.index.map('{0[0]},{0[1]}'.format), rotation=90)\n",
    "plt.savefig('ret_fav')"
   ]
  },
  {
   "cell_type": "markdown",
   "metadata": {},
   "source": [
    "### Insight 3 Most dogs are rated 10.0 - 12.0 "
   ]
  },
  {
   "cell_type": "code",
   "execution_count": 733,
   "metadata": {},
   "outputs": [
    {
     "data": {
      "image/png": "[encoded data removed]",
      "text/plain": [
       "<matplotlib.figure.Figure at 0x7f81b1070dd8>"
      ]
     },
     "metadata": {
      "needs_background": "light"
     },
     "output_type": "display_data"
    }
   ],
   "source": [
    "ax = df.rating.value_counts().sort_index().plot('bar', title = 'Dog Rating distribution')\n",
    "ax.set_xlabel(\"Rating of Dogs\")\n",
    "ax.set_ylabel(\"Number of Dogs\")\n",
    "ax.set_yticks([0, 50, 100, 150, 200, 250, 300, 350, 400, 450])\n",
    "plt.savefig('rating_dist')"
   ]
  },
  {
   "cell_type": "markdown",
   "metadata": {},
   "source": [
    "### Insight 4 Out of all the dogs that can be predicted, **pub, Pembroke, Samoyed, golden_retriever, Pomeranian** are the most frequently appeared"
   ]
  },
  {
   "cell_type": "code",
   "execution_count": 566,
   "metadata": {
    "scrolled": true
   },
   "outputs": [
    {
     "data": {
      "image/png": "[encoded data removed]",
      "text/plain": [
       "<matplotlib.figure.Figure at 0x7f81b13c3550>"
      ]
     },
     "metadata": {
      "needs_background": "light"
     },
     "output_type": "display_data"
    }
   ],
   "source": [
    "df_dog_type = df.groupby('breed').filter(lambda x: len(x) < 100 and len(x) > 4)\n",
    "df_dog_type['breed'].value_counts().plot(kind = 'barh')\n",
    "plt.title('Histogram of the Most Rated Dog Type')\n",
    "plt.xlabel('Count')\n",
    "plt.ylabel('Type of dog')\n",
    "\n",
    "fig = plt.gcf() \n",
    "fig.savefig('output.png',bbox_inches='tight');"
   ]
  },
  {
   "cell_type": "markdown",
   "metadata": {},
   "source": [
    "### Insight 5 WeRateDogs has posted 98% of the tweets from iPhone"
   ]
  },
  {
   "cell_type": "code",
   "execution_count": 568,
   "metadata": {},
   "outputs": [
    {
     "data": {
      "image/png": "[encoded data removed]",
      "text/plain": [
       "<matplotlib.figure.Figure at 0x7f81b0ed6780>"
      ]
     },
     "metadata": {
      "needs_background": "light"
     },
     "output_type": "display_data"
    }
   ],
   "source": [
    "df['source'].value_counts().plot('barh', figsize=(11,5), title='Most used Twitter source').set_xlabel(\"Number of Tweets\")\n",
    "plt.savefig('twitter_source')"
   ]
  },
  {
   "cell_type": "markdown",
   "metadata": {},
   "source": [
    "### The most common dog name is Cooper, Charlie, Lucy and Oliver"
   ]
  },
  {
   "cell_type": "code",
   "execution_count": 570,
   "metadata": {},
   "outputs": [
    {
     "data": {
      "image/png": "[encoded data removed]",
      "text/plain": [
       "<matplotlib.figure.Figure at 0x7f81b1106550>"
      ]
     },
     "metadata": {
      "needs_background": "light"
     },
     "output_type": "display_data"
    }
   ],
   "source": [
    "df.name.value_counts()[1:7].plot('barh', figsize=(11,5), title='Top 6 common dog names').set_xlabel(\"Number of Dogs\")\n",
    "plt.savefig('dog_names')"
   ]
  }
 ],
 "metadata": {
  "kernelspec": {
   "display_name": "Python 3",
   "language": "python",
   "name": "python3"
  },
  "language_info": {
   "codemirror_mode": {
    "name": "ipython",
    "version": 3
   },
   "file_extension": ".py",
   "mimetype": "text/x-python",
   "name": "python",
   "nbconvert_exporter": "python",
   "pygments_lexer": "ipython3",
   "version": "3.6.3"
  }
 },
 "nbformat": 4,
 "nbformat_minor": 2
}
